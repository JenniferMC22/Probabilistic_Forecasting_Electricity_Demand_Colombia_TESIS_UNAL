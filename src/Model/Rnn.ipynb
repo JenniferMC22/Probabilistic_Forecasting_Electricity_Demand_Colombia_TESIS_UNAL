{
 "cells": [
  {
   "cell_type": "code",
   "execution_count": 1,
   "metadata": {},
   "outputs": [
    {
     "name": "stdout",
     "output_type": "stream",
     "text": [
      "c:\\Users\\JENMOSQU\\Documents\\PERSONAL\\cod\\Probabilistic-Electricity-Demand-\n"
     ]
    },
    {
     "data": {
      "text/plain": [
       "'c:\\\\Users\\\\JENMOSQU\\\\Documents\\\\PERSONAL\\\\cod\\\\Probabilistic-Electricity-Demand-'"
      ]
     },
     "execution_count": 1,
     "metadata": {},
     "output_type": "execute_result"
    }
   ],
   "source": [
    "import os\n",
    "directory = os.getcwd()  \n",
    "directory = directory.split('src')\n",
    "path = directory[0]\n",
    "%cd $path\n",
    "%pwd"
   ]
  },
  {
   "cell_type": "code",
   "execution_count": 2,
   "metadata": {},
   "outputs": [
    {
     "name": "stdout",
     "output_type": "stream",
     "text": [
      "WARNING:tensorflow:From c:\\Users\\JENMOSQU\\AppData\\Local\\Programs\\Python\\Python39\\lib\\site-packages\\keras\\src\\losses.py:2976: The name tf.losses.sparse_softmax_cross_entropy is deprecated. Please use tf.compat.v1.losses.sparse_softmax_cross_entropy instead.\n",
      "\n",
      "Using TensorFlow backend\n"
     ]
    }
   ],
   "source": [
    "# Libraries..\n",
    "\n",
    "import numpy as np\n",
    "from datetime import datetime\n",
    "from dateutil.relativedelta import relativedelta\n",
    "from itertools import product\n",
    "from tqdm import tqdm_notebook\n",
    "import pandas as pd\n",
    "import copy\n",
    "\n",
    "# Plotly and Matplotlib\n",
    "import plotly.express as px\n",
    "import plotly.graph_objects as go\n",
    "import plotly.express as px\n",
    "# import matplotlib.pyplot as plt\n",
    "# import matplotlib.ticker as ticker\n",
    "\n",
    "\n",
    "# sklearn\n",
    "from sklearn.compose import make_column_transformer\n",
    "\n",
    "from sklearn.preprocessing import OneHotEncoder\n",
    "from sklearn.metrics import r2_score, median_absolute_error, mean_absolute_error,mean_squared_error, mean_absolute_percentage_error\n",
    "from sklearn.preprocessing import StandardScaler, OneHotEncoder\n",
    "from sklearn.impute import KNNImputer\n",
    "\n",
    "# Keras\n",
    "\n",
    "from keras.models import Sequential\n",
    "from keras.backend import clear_session\n",
    "from keras.callbacks import EarlyStopping\n",
    "from keras_tuner.tuners import RandomSearch\n",
    "from keras.layers import SimpleRNN, LSTM, GRU, Dropout, Dense, Bidirectional\n",
    "\n",
    "# tensorflow\n",
    "from tensorflow.keras.models import load_model\n",
    "\n",
    "# Modules from repo\n",
    "from src.Utilities import utilities as tool\n",
    "\n",
    "\n",
    "\n",
    "# Configuración warnings\n",
    "# ==============================================================================\n",
    "import warnings\n",
    "warnings.filterwarnings('ignore')\n",
    "# Configuración options.display\n",
    "# ==============================================================================\n",
    "pd.set_option('display.max_rows', 5000)\n",
    "pd.options.display.max_rows = None\n",
    "pd.options.display.max_columns = 5000\n",
    "pd.options.display.max_colwidth = 5000\n",
    "pd.options.display.max_dir_items = 5000\n",
    "pd.options.display.width = 5000\n",
    "pd.options.display.float_format = '{:.1f}'.format\n"
   ]
  },
  {
   "cell_type": "code",
   "execution_count": 3,
   "metadata": {},
   "outputs": [
    {
     "name": "stdout",
     "output_type": "stream",
     "text": [
      "columnas rezagadas que no son necesarias porque skforecast rezaga internamente ['HR_CAL_MEDIA_D', 'VVAG_MEDIA_D', 'Demanda_SIN_1', 'Demanda_SIN_2', 'Demanda_SIN_3', 'Demanda_SIN_4', 'Demanda_SIN_5', 'Demanda_SIN_6', 'Demanda_SIN_7', 'Demanda_SIN_8', 'Demanda_SIN_9', 'Demanda_SIN_10', 'Demanda_SIN_11', 'Demanda_SIN_12', 'Demanda_SIN_13', 'Demanda_SIN_14', 'Demanda_SIN_15', 'Demanda_SIN_16', 'Demanda_SIN_17', 'Demanda_SIN_18', 'Demanda_SIN_19', 'Demanda_SIN_20', 'Demanda_SIN_21', 'Demanda_SIN_22', 'Demanda_SIN_23', 'Demanda_SIN_24', 'Demanda_SIN_25', 'Demanda_SIN_26', 'Demanda_SIN_27', 'Demanda_SIN_28']\n",
      "       FECHA TIPO_DIA  Demanda_SIN  Covid  Cambio_nivel  Tiempo  precipitacion  Temperatura  HRA2_MN_D  HRA2_MX_D  THSM_MEDIA_D  THSM_MX_D  VV_10_MEDIA_D  VV_10_VECT_MEDIA_D  THSM_MN_D  PT_2_TT_D  PT_2_MX_D  PT_10_MX_D  PT_10_TT_D  TSSM_MEDIA_D  TSSM_MN_D  TSSM_MX_D  PTPG_TT_D  BSHG_TT_D  TPR_CAL\n",
      "0 2017-12-01  VIERNES     193865.8      0             0       1            9.6         22.2       58.7       91.5          19.1       20.7            1.7                 0.9       17.9        1.8        1.2         1.9         6.2          22.0       19.5       25.4        1.8        4.5     18.0\n",
      "--------------------------------------------------------------------------------------------------\n",
      "          FECHA TIPO_DIA  Demanda_SIN  Covid  Cambio_nivel  Tiempo  precipitacion  Temperatura  HRA2_MN_D  HRA2_MX_D  THSM_MEDIA_D  THSM_MX_D  VV_10_MEDIA_D  VV_10_VECT_MEDIA_D  THSM_MN_D  PT_2_TT_D  PT_2_MX_D  PT_10_MX_D  PT_10_TT_D  TSSM_MEDIA_D  TSSM_MN_D  TSSM_MX_D  PTPG_TT_D  BSHG_TT_D  TPR_CAL\n",
      "2129 2023-09-30   SABADO     228839.6      0             1    2130            7.5         22.3        NaN        NaN           NaN        NaN            NaN                 NaN        NaN        NaN        NaN         NaN         NaN           NaN        NaN        NaN        NaN        NaN      NaN\n"
     ]
    }
   ],
   "source": [
    "#Import Data..............\n",
    "\n",
    "df=pd.read_parquet('df.parquet')\n",
    "columnas_indeseadas =['HR_CAL_MEDIA_D', 'VVAG_MEDIA_D'] #columna con correlación 0 con la demanda\n",
    "columnas_indeseadas += [f'Demanda_SIN_{i}' for i in range(1, 29)]\n",
    "# columnas_indeseadas += [f'Demanda_SIN_{i}' for i in range(7, 29, 7)]\n",
    "print(\"columnas rezagadas que no son necesarias porque skforecast rezaga internamente\",columnas_indeseadas)\n",
    "df = df.loc[:, ~df.columns.isin(columnas_indeseadas)]\n",
    "print(df.head(1))\n",
    "print(\"--------------------------------------------------------------------------------------------------\")\n",
    "print(df.tail(1))"
   ]
  },
  {
   "cell_type": "code",
   "execution_count": 4,
   "metadata": {},
   "outputs": [
    {
     "name": "stdout",
     "output_type": "stream",
     "text": [
      "Demanda_SIN           1.0\n",
      "Covid                -0.2\n",
      "Cambio_nivel          0.4\n",
      "Tiempo                0.6\n",
      "VV_10_MEDIA_D         0.2\n",
      "VV_10_VECT_MEDIA_D    0.2\n",
      "PT_10_TT_D           -0.3\n",
      "Name: Demanda_SIN, dtype: float64\n",
      "columnas finales Index(['FECHA', 'TIPO_DIA', 'Demanda_SIN', 'Covid', 'Cambio_nivel', 'Tiempo', 'VV_10_MEDIA_D', 'VV_10_VECT_MEDIA_D', 'PT_10_TT_D', 'THSM_MEDIA_D'], dtype='object')\n"
     ]
    },
    {
     "data": {
      "text/html": [
       "<div>\n",
       "<style scoped>\n",
       "    .dataframe tbody tr th:only-of-type {\n",
       "        vertical-align: middle;\n",
       "    }\n",
       "\n",
       "    .dataframe tbody tr th {\n",
       "        vertical-align: top;\n",
       "    }\n",
       "\n",
       "    .dataframe thead th {\n",
       "        text-align: right;\n",
       "    }\n",
       "</style>\n",
       "<table border=\"1\" class=\"dataframe\">\n",
       "  <thead>\n",
       "    <tr style=\"text-align: right;\">\n",
       "      <th></th>\n",
       "      <th>FECHA</th>\n",
       "      <th>TIPO_DIA</th>\n",
       "      <th>Demanda_SIN</th>\n",
       "      <th>Covid</th>\n",
       "      <th>Cambio_nivel</th>\n",
       "      <th>Tiempo</th>\n",
       "      <th>VV_10_MEDIA_D</th>\n",
       "      <th>VV_10_VECT_MEDIA_D</th>\n",
       "      <th>PT_10_TT_D</th>\n",
       "      <th>THSM_MEDIA_D</th>\n",
       "    </tr>\n",
       "  </thead>\n",
       "  <tbody>\n",
       "    <tr>\n",
       "      <th>0</th>\n",
       "      <td>2017-12-01</td>\n",
       "      <td>VIERNES</td>\n",
       "      <td>193865.8</td>\n",
       "      <td>0</td>\n",
       "      <td>0</td>\n",
       "      <td>1</td>\n",
       "      <td>1.7</td>\n",
       "      <td>0.9</td>\n",
       "      <td>6.2</td>\n",
       "      <td>19.1</td>\n",
       "    </tr>\n",
       "    <tr>\n",
       "      <th>1</th>\n",
       "      <td>2017-12-02</td>\n",
       "      <td>SABADO</td>\n",
       "      <td>184393.8</td>\n",
       "      <td>0</td>\n",
       "      <td>0</td>\n",
       "      <td>2</td>\n",
       "      <td>1.8</td>\n",
       "      <td>0.9</td>\n",
       "      <td>7.9</td>\n",
       "      <td>19.2</td>\n",
       "    </tr>\n",
       "  </tbody>\n",
       "</table>\n",
       "</div>"
      ],
      "text/plain": [
       "       FECHA TIPO_DIA  Demanda_SIN  Covid  Cambio_nivel  Tiempo  VV_10_MEDIA_D  VV_10_VECT_MEDIA_D  PT_10_TT_D  THSM_MEDIA_D\n",
       "0 2017-12-01  VIERNES     193865.8      0             0       1            1.7                 0.9         6.2          19.1\n",
       "1 2017-12-02   SABADO     184393.8      0             0       2            1.8                 0.9         7.9          19.2"
      ]
     },
     "execution_count": 4,
     "metadata": {},
     "output_type": "execute_result"
    }
   ],
   "source": [
    "#Correlación variables y filtrado........\n",
    "#['THSM_MEDIA_D','PTPG_TT_D']\n",
    "correlacion_con_demanda = df.corr()['Demanda_SIN']\n",
    "nombres_variables = correlacion_con_demanda[(correlacion_con_demanda >= 0.2) | (correlacion_con_demanda <= -0.2)]\n",
    "print(nombres_variables)\n",
    "nombres_variables=nombres_variables.index.tolist()\n",
    "nombres_variables +=['THSM_MEDIA_D'] #'PTPG_TT_D' #'VVAG_MEDIA_D'\n",
    "nombres_variables.remove('Demanda_SIN')\n",
    "df=df[['FECHA', 'TIPO_DIA', 'Demanda_SIN'] + nombres_variables]\n",
    "print(\"columnas finales\", df.columns)\n",
    "df.head(2)"
   ]
  },
  {
   "cell_type": "code",
   "execution_count": 5,
   "metadata": {},
   "outputs": [],
   "source": [
    "#Imputation: Rolling mean........................\n",
    "\n",
    "columns_rolling = ['VV_10_MEDIA_D', 'VV_10_VECT_MEDIA_D','PT_10_TT_D' ,'THSM_MEDIA_D']\n",
    "window_size=60\n",
    "df = tool.exploratory_tools.fill_null_values_with_rolling_mean(df, columns_rolling, window_size)\n"
   ]
  },
  {
   "cell_type": "code",
   "execution_count": 6,
   "metadata": {},
   "outputs": [
    {
     "name": "stdout",
     "output_type": "stream",
     "text": [
      "--------------------------------------------------------------------------------------------------------------------------------------\n"
     ]
    },
    {
     "data": {
      "text/html": [
       "<div>\n",
       "<style scoped>\n",
       "    .dataframe tbody tr th:only-of-type {\n",
       "        vertical-align: middle;\n",
       "    }\n",
       "\n",
       "    .dataframe tbody tr th {\n",
       "        vertical-align: top;\n",
       "    }\n",
       "\n",
       "    .dataframe thead th {\n",
       "        text-align: right;\n",
       "    }\n",
       "</style>\n",
       "<table border=\"1\" class=\"dataframe\">\n",
       "  <thead>\n",
       "    <tr style=\"text-align: right;\">\n",
       "      <th></th>\n",
       "      <th>Demanda_SIN</th>\n",
       "      <th>Covid</th>\n",
       "      <th>Cambio_nivel</th>\n",
       "      <th>Tiempo</th>\n",
       "      <th>VV_10_MEDIA_D</th>\n",
       "      <th>VV_10_VECT_MEDIA_D</th>\n",
       "      <th>PT_10_TT_D</th>\n",
       "      <th>THSM_MEDIA_D</th>\n",
       "      <th>TIPO_DIA_1--ENE</th>\n",
       "      <th>TIPO_DIA_1--MAY</th>\n",
       "      <th>TIPO_DIA_2--ENE</th>\n",
       "      <th>TIPO_DIA_20--JUL</th>\n",
       "      <th>TIPO_DIA_24--DIC</th>\n",
       "      <th>TIPO_DIA_25--DIC</th>\n",
       "      <th>TIPO_DIA_31--DIC</th>\n",
       "      <th>TIPO_DIA_7--AGO</th>\n",
       "      <th>TIPO_DIA_8--DIC</th>\n",
       "      <th>TIPO_DIA_DOALF</th>\n",
       "      <th>TIPO_DIA_DOALFENE</th>\n",
       "      <th>TIPO_DIA_DOMINGO</th>\n",
       "      <th>TIPO_DIA_DOVDIC</th>\n",
       "      <th>TIPO_DIA_DOVENE</th>\n",
       "      <th>TIPO_DIA_DSS</th>\n",
       "      <th>TIPO_DIA_JSS</th>\n",
       "      <th>TIPO_DIA_JUEVES</th>\n",
       "      <th>TIPO_DIA_JUVDIC</th>\n",
       "      <th>TIPO_DIA_JUVENE</th>\n",
       "      <th>TIPO_DIA_LF</th>\n",
       "      <th>TIPO_DIA_LFENE</th>\n",
       "      <th>TIPO_DIA_LUNES</th>\n",
       "      <th>TIPO_DIA_LUVDIC</th>\n",
       "      <th>TIPO_DIA_LUVENE</th>\n",
       "      <th>TIPO_DIA_MADLF</th>\n",
       "      <th>TIPO_DIA_MARTES</th>\n",
       "      <th>TIPO_DIA_MAVDIC</th>\n",
       "      <th>TIPO_DIA_MAVENE</th>\n",
       "      <th>TIPO_DIA_MIERCOLES</th>\n",
       "      <th>TIPO_DIA_MIVDIC</th>\n",
       "      <th>TIPO_DIA_MIVENE</th>\n",
       "      <th>TIPO_DIA_MSS</th>\n",
       "      <th>TIPO_DIA_SAALF</th>\n",
       "      <th>TIPO_DIA_SAALFENE</th>\n",
       "      <th>TIPO_DIA_SABADO</th>\n",
       "      <th>TIPO_DIA_SAVDIC</th>\n",
       "      <th>TIPO_DIA_SAVENE</th>\n",
       "      <th>TIPO_DIA_SSS</th>\n",
       "      <th>TIPO_DIA_VIERNES</th>\n",
       "      <th>TIPO_DIA_VIVDIC</th>\n",
       "      <th>TIPO_DIA_VIVENE</th>\n",
       "      <th>TIPO_DIA_VSS</th>\n",
       "    </tr>\n",
       "    <tr>\n",
       "      <th>FECHA</th>\n",
       "      <th></th>\n",
       "      <th></th>\n",
       "      <th></th>\n",
       "      <th></th>\n",
       "      <th></th>\n",
       "      <th></th>\n",
       "      <th></th>\n",
       "      <th></th>\n",
       "      <th></th>\n",
       "      <th></th>\n",
       "      <th></th>\n",
       "      <th></th>\n",
       "      <th></th>\n",
       "      <th></th>\n",
       "      <th></th>\n",
       "      <th></th>\n",
       "      <th></th>\n",
       "      <th></th>\n",
       "      <th></th>\n",
       "      <th></th>\n",
       "      <th></th>\n",
       "      <th></th>\n",
       "      <th></th>\n",
       "      <th></th>\n",
       "      <th></th>\n",
       "      <th></th>\n",
       "      <th></th>\n",
       "      <th></th>\n",
       "      <th></th>\n",
       "      <th></th>\n",
       "      <th></th>\n",
       "      <th></th>\n",
       "      <th></th>\n",
       "      <th></th>\n",
       "      <th></th>\n",
       "      <th></th>\n",
       "      <th></th>\n",
       "      <th></th>\n",
       "      <th></th>\n",
       "      <th></th>\n",
       "      <th></th>\n",
       "      <th></th>\n",
       "      <th></th>\n",
       "      <th></th>\n",
       "      <th></th>\n",
       "      <th></th>\n",
       "      <th></th>\n",
       "      <th></th>\n",
       "      <th></th>\n",
       "      <th></th>\n",
       "    </tr>\n",
       "  </thead>\n",
       "  <tbody>\n",
       "    <tr>\n",
       "      <th>2017-12-01</th>\n",
       "      <td>193865.8</td>\n",
       "      <td>0</td>\n",
       "      <td>0</td>\n",
       "      <td>1</td>\n",
       "      <td>1.7</td>\n",
       "      <td>0.9</td>\n",
       "      <td>6.2</td>\n",
       "      <td>19.1</td>\n",
       "      <td>0.0</td>\n",
       "      <td>0.0</td>\n",
       "      <td>0.0</td>\n",
       "      <td>0.0</td>\n",
       "      <td>0.0</td>\n",
       "      <td>0.0</td>\n",
       "      <td>0.0</td>\n",
       "      <td>0.0</td>\n",
       "      <td>0.0</td>\n",
       "      <td>0.0</td>\n",
       "      <td>0.0</td>\n",
       "      <td>0.0</td>\n",
       "      <td>0.0</td>\n",
       "      <td>0.0</td>\n",
       "      <td>0.0</td>\n",
       "      <td>0.0</td>\n",
       "      <td>0.0</td>\n",
       "      <td>0.0</td>\n",
       "      <td>0.0</td>\n",
       "      <td>0.0</td>\n",
       "      <td>0.0</td>\n",
       "      <td>0.0</td>\n",
       "      <td>0.0</td>\n",
       "      <td>0.0</td>\n",
       "      <td>0.0</td>\n",
       "      <td>0.0</td>\n",
       "      <td>0.0</td>\n",
       "      <td>0.0</td>\n",
       "      <td>0.0</td>\n",
       "      <td>0.0</td>\n",
       "      <td>0.0</td>\n",
       "      <td>0.0</td>\n",
       "      <td>0.0</td>\n",
       "      <td>0.0</td>\n",
       "      <td>0.0</td>\n",
       "      <td>0.0</td>\n",
       "      <td>0.0</td>\n",
       "      <td>0.0</td>\n",
       "      <td>1.0</td>\n",
       "      <td>0.0</td>\n",
       "      <td>0.0</td>\n",
       "      <td>0.0</td>\n",
       "    </tr>\n",
       "    <tr>\n",
       "      <th>2017-12-02</th>\n",
       "      <td>184393.8</td>\n",
       "      <td>0</td>\n",
       "      <td>0</td>\n",
       "      <td>2</td>\n",
       "      <td>1.8</td>\n",
       "      <td>0.9</td>\n",
       "      <td>7.9</td>\n",
       "      <td>19.2</td>\n",
       "      <td>0.0</td>\n",
       "      <td>0.0</td>\n",
       "      <td>0.0</td>\n",
       "      <td>0.0</td>\n",
       "      <td>0.0</td>\n",
       "      <td>0.0</td>\n",
       "      <td>0.0</td>\n",
       "      <td>0.0</td>\n",
       "      <td>0.0</td>\n",
       "      <td>0.0</td>\n",
       "      <td>0.0</td>\n",
       "      <td>0.0</td>\n",
       "      <td>0.0</td>\n",
       "      <td>0.0</td>\n",
       "      <td>0.0</td>\n",
       "      <td>0.0</td>\n",
       "      <td>0.0</td>\n",
       "      <td>0.0</td>\n",
       "      <td>0.0</td>\n",
       "      <td>0.0</td>\n",
       "      <td>0.0</td>\n",
       "      <td>0.0</td>\n",
       "      <td>0.0</td>\n",
       "      <td>0.0</td>\n",
       "      <td>0.0</td>\n",
       "      <td>0.0</td>\n",
       "      <td>0.0</td>\n",
       "      <td>0.0</td>\n",
       "      <td>0.0</td>\n",
       "      <td>0.0</td>\n",
       "      <td>0.0</td>\n",
       "      <td>0.0</td>\n",
       "      <td>0.0</td>\n",
       "      <td>0.0</td>\n",
       "      <td>1.0</td>\n",
       "      <td>0.0</td>\n",
       "      <td>0.0</td>\n",
       "      <td>0.0</td>\n",
       "      <td>0.0</td>\n",
       "      <td>0.0</td>\n",
       "      <td>0.0</td>\n",
       "      <td>0.0</td>\n",
       "    </tr>\n",
       "  </tbody>\n",
       "</table>\n",
       "</div>"
      ],
      "text/plain": [
       "            Demanda_SIN  Covid  Cambio_nivel  Tiempo  VV_10_MEDIA_D  VV_10_VECT_MEDIA_D  PT_10_TT_D  THSM_MEDIA_D  TIPO_DIA_1--ENE  TIPO_DIA_1--MAY  TIPO_DIA_2--ENE  TIPO_DIA_20--JUL  TIPO_DIA_24--DIC  TIPO_DIA_25--DIC  TIPO_DIA_31--DIC  TIPO_DIA_7--AGO  TIPO_DIA_8--DIC  TIPO_DIA_DOALF  TIPO_DIA_DOALFENE  TIPO_DIA_DOMINGO  TIPO_DIA_DOVDIC  TIPO_DIA_DOVENE  TIPO_DIA_DSS  TIPO_DIA_JSS  TIPO_DIA_JUEVES  TIPO_DIA_JUVDIC  TIPO_DIA_JUVENE  TIPO_DIA_LF  TIPO_DIA_LFENE  TIPO_DIA_LUNES  TIPO_DIA_LUVDIC  TIPO_DIA_LUVENE  TIPO_DIA_MADLF  TIPO_DIA_MARTES  TIPO_DIA_MAVDIC  TIPO_DIA_MAVENE  TIPO_DIA_MIERCOLES  TIPO_DIA_MIVDIC  TIPO_DIA_MIVENE  TIPO_DIA_MSS  TIPO_DIA_SAALF  TIPO_DIA_SAALFENE  TIPO_DIA_SABADO  TIPO_DIA_SAVDIC  TIPO_DIA_SAVENE  TIPO_DIA_SSS  TIPO_DIA_VIERNES  TIPO_DIA_VIVDIC  TIPO_DIA_VIVENE  TIPO_DIA_VSS\n",
       "FECHA                                                                                                                                                                                                                                                                                                                                                                                                                                                                                                                                                                                                                                                                                                                                                                                                                                           \n",
       "2017-12-01     193865.8      0             0       1            1.7                 0.9         6.2          19.1              0.0              0.0              0.0               0.0               0.0               0.0               0.0              0.0              0.0             0.0                0.0               0.0              0.0              0.0           0.0           0.0              0.0              0.0              0.0          0.0             0.0             0.0              0.0              0.0             0.0              0.0              0.0              0.0                 0.0              0.0              0.0           0.0             0.0                0.0              0.0              0.0              0.0           0.0               1.0              0.0              0.0           0.0\n",
       "2017-12-02     184393.8      0             0       2            1.8                 0.9         7.9          19.2              0.0              0.0              0.0               0.0               0.0               0.0               0.0              0.0              0.0             0.0                0.0               0.0              0.0              0.0           0.0           0.0              0.0              0.0              0.0          0.0             0.0             0.0              0.0              0.0             0.0              0.0              0.0              0.0                 0.0              0.0              0.0           0.0             0.0                0.0              1.0              0.0              0.0           0.0               0.0              0.0              0.0           0.0"
      ]
     },
     "execution_count": 6,
     "metadata": {},
     "output_type": "execute_result"
    }
   ],
   "source": [
    "# Transformer one hot encoding and formatting-.......\n",
    "\n",
    "print(\"--------------------------------------------------------------------------------------------------------------------------------------\")\n",
    "# ==============================================================================\n",
    "one_hot_encoder = make_column_transformer(\n",
    "                      #(StandardScaler(), ['Demanda_SIN']),\n",
    "                      (   \n",
    "                          OneHotEncoder(sparse_output=False, drop='if_binary'),\n",
    "                          ['TIPO_DIA'],\n",
    "                      ),\n",
    "                      remainder=\"passthrough\",\n",
    "                      verbose_feature_names_out=False,\n",
    "                  ).set_output(transform=\"pandas\")\n",
    "\n",
    "df = one_hot_encoder.fit_transform(df)\n",
    "\n",
    "#-------------------------------------------------------------------------------------------------------------------------------------------\n",
    "#Variable TIPO_DIA\n",
    "#-------------------------------------------------------------------------------------------------------------------------------------------\n",
    "columnas_tipo_dia = [col for col in df.columns if col.startswith('TIPO_DIA_')]\n",
    "variables_exogenas = ['FECHA'] + nombres_variables + columnas_tipo_dia\n",
    "variable_dependiente = ['Demanda_SIN']\n",
    "df = df[variable_dependiente + variables_exogenas] \n",
    "\n",
    "#-------------------------------------------------------------------------------------------------------------------------------------------\n",
    "# Codificación de Fecha...\n",
    "#-------------------------------------------------------------------------------------------------------------------------------------------\n",
    "df['FECHA'] = pd.to_datetime(df['FECHA'], format='%Y-%m-%d')\n",
    "df = df.set_index('FECHA')\n",
    "df = df.asfreq('D')\n",
    "\n",
    "\n",
    "df.head(2)"
   ]
  },
  {
   "cell_type": "code",
   "execution_count": 7,
   "metadata": {},
   "outputs": [
    {
     "name": "stdout",
     "output_type": "stream",
     "text": [
      "Fechas train      : 2017-12-01 00:00:00 --- 2023-05-31 00:00:00  (n=2008)\n",
      "Fechas validacion : 2023-06-01 00:00:00 --- 2023-09-23 00:00:00  (n=115)\n",
      "Fechas test       : 2023-09-24 00:00:00 --- 2023-09-30 00:00:00  (n=7)\n",
      "-------------------------------------------------------------------------------------------------------------------------------------\n"
     ]
    },
    {
     "data": {
      "text/html": [
       "<div>\n",
       "<style scoped>\n",
       "    .dataframe tbody tr th:only-of-type {\n",
       "        vertical-align: middle;\n",
       "    }\n",
       "\n",
       "    .dataframe tbody tr th {\n",
       "        vertical-align: top;\n",
       "    }\n",
       "\n",
       "    .dataframe thead th {\n",
       "        text-align: right;\n",
       "    }\n",
       "</style>\n",
       "<table border=\"1\" class=\"dataframe\">\n",
       "  <thead>\n",
       "    <tr style=\"text-align: right;\">\n",
       "      <th></th>\n",
       "      <th>Demanda_SIN</th>\n",
       "      <th>Covid</th>\n",
       "      <th>Cambio_nivel</th>\n",
       "      <th>Tiempo</th>\n",
       "      <th>VV_10_MEDIA_D</th>\n",
       "      <th>VV_10_VECT_MEDIA_D</th>\n",
       "      <th>PT_10_TT_D</th>\n",
       "      <th>THSM_MEDIA_D</th>\n",
       "      <th>TIPO_DIA_1--ENE</th>\n",
       "      <th>TIPO_DIA_1--MAY</th>\n",
       "      <th>TIPO_DIA_2--ENE</th>\n",
       "      <th>TIPO_DIA_20--JUL</th>\n",
       "      <th>TIPO_DIA_24--DIC</th>\n",
       "      <th>TIPO_DIA_25--DIC</th>\n",
       "      <th>TIPO_DIA_31--DIC</th>\n",
       "      <th>TIPO_DIA_7--AGO</th>\n",
       "      <th>TIPO_DIA_8--DIC</th>\n",
       "      <th>TIPO_DIA_DOALF</th>\n",
       "      <th>TIPO_DIA_DOALFENE</th>\n",
       "      <th>TIPO_DIA_DOMINGO</th>\n",
       "      <th>TIPO_DIA_DOVDIC</th>\n",
       "      <th>TIPO_DIA_DOVENE</th>\n",
       "      <th>TIPO_DIA_DSS</th>\n",
       "      <th>TIPO_DIA_JSS</th>\n",
       "      <th>TIPO_DIA_JUEVES</th>\n",
       "      <th>TIPO_DIA_JUVDIC</th>\n",
       "      <th>TIPO_DIA_JUVENE</th>\n",
       "      <th>TIPO_DIA_LF</th>\n",
       "      <th>TIPO_DIA_LFENE</th>\n",
       "      <th>TIPO_DIA_LUNES</th>\n",
       "      <th>TIPO_DIA_LUVDIC</th>\n",
       "      <th>TIPO_DIA_LUVENE</th>\n",
       "      <th>TIPO_DIA_MADLF</th>\n",
       "      <th>TIPO_DIA_MARTES</th>\n",
       "      <th>TIPO_DIA_MAVDIC</th>\n",
       "      <th>TIPO_DIA_MAVENE</th>\n",
       "      <th>TIPO_DIA_MIERCOLES</th>\n",
       "      <th>TIPO_DIA_MIVDIC</th>\n",
       "      <th>TIPO_DIA_MIVENE</th>\n",
       "      <th>TIPO_DIA_MSS</th>\n",
       "      <th>TIPO_DIA_SAALF</th>\n",
       "      <th>TIPO_DIA_SAALFENE</th>\n",
       "      <th>TIPO_DIA_SABADO</th>\n",
       "      <th>TIPO_DIA_SAVDIC</th>\n",
       "      <th>TIPO_DIA_SAVENE</th>\n",
       "      <th>TIPO_DIA_SSS</th>\n",
       "      <th>TIPO_DIA_VIERNES</th>\n",
       "      <th>TIPO_DIA_VIVDIC</th>\n",
       "      <th>TIPO_DIA_VIVENE</th>\n",
       "      <th>TIPO_DIA_VSS</th>\n",
       "    </tr>\n",
       "    <tr>\n",
       "      <th>FECHA</th>\n",
       "      <th></th>\n",
       "      <th></th>\n",
       "      <th></th>\n",
       "      <th></th>\n",
       "      <th></th>\n",
       "      <th></th>\n",
       "      <th></th>\n",
       "      <th></th>\n",
       "      <th></th>\n",
       "      <th></th>\n",
       "      <th></th>\n",
       "      <th></th>\n",
       "      <th></th>\n",
       "      <th></th>\n",
       "      <th></th>\n",
       "      <th></th>\n",
       "      <th></th>\n",
       "      <th></th>\n",
       "      <th></th>\n",
       "      <th></th>\n",
       "      <th></th>\n",
       "      <th></th>\n",
       "      <th></th>\n",
       "      <th></th>\n",
       "      <th></th>\n",
       "      <th></th>\n",
       "      <th></th>\n",
       "      <th></th>\n",
       "      <th></th>\n",
       "      <th></th>\n",
       "      <th></th>\n",
       "      <th></th>\n",
       "      <th></th>\n",
       "      <th></th>\n",
       "      <th></th>\n",
       "      <th></th>\n",
       "      <th></th>\n",
       "      <th></th>\n",
       "      <th></th>\n",
       "      <th></th>\n",
       "      <th></th>\n",
       "      <th></th>\n",
       "      <th></th>\n",
       "      <th></th>\n",
       "      <th></th>\n",
       "      <th></th>\n",
       "      <th></th>\n",
       "      <th></th>\n",
       "      <th></th>\n",
       "      <th></th>\n",
       "    </tr>\n",
       "  </thead>\n",
       "  <tbody>\n",
       "    <tr>\n",
       "      <th>2023-09-24</th>\n",
       "      <td>203949.3</td>\n",
       "      <td>0</td>\n",
       "      <td>1</td>\n",
       "      <td>2124</td>\n",
       "      <td>49.4</td>\n",
       "      <td>49.9</td>\n",
       "      <td>5.8</td>\n",
       "      <td>21.0</td>\n",
       "      <td>0.0</td>\n",
       "      <td>0.0</td>\n",
       "      <td>0.0</td>\n",
       "      <td>0.0</td>\n",
       "      <td>0.0</td>\n",
       "      <td>0.0</td>\n",
       "      <td>0.0</td>\n",
       "      <td>0.0</td>\n",
       "      <td>0.0</td>\n",
       "      <td>0.0</td>\n",
       "      <td>0.0</td>\n",
       "      <td>1.0</td>\n",
       "      <td>0.0</td>\n",
       "      <td>0.0</td>\n",
       "      <td>0.0</td>\n",
       "      <td>0.0</td>\n",
       "      <td>0.0</td>\n",
       "      <td>0.0</td>\n",
       "      <td>0.0</td>\n",
       "      <td>0.0</td>\n",
       "      <td>0.0</td>\n",
       "      <td>0.0</td>\n",
       "      <td>0.0</td>\n",
       "      <td>0.0</td>\n",
       "      <td>0.0</td>\n",
       "      <td>0.0</td>\n",
       "      <td>0.0</td>\n",
       "      <td>0.0</td>\n",
       "      <td>0.0</td>\n",
       "      <td>0.0</td>\n",
       "      <td>0.0</td>\n",
       "      <td>0.0</td>\n",
       "      <td>0.0</td>\n",
       "      <td>0.0</td>\n",
       "      <td>0.0</td>\n",
       "      <td>0.0</td>\n",
       "      <td>0.0</td>\n",
       "      <td>0.0</td>\n",
       "      <td>0.0</td>\n",
       "      <td>0.0</td>\n",
       "      <td>0.0</td>\n",
       "      <td>0.0</td>\n",
       "    </tr>\n",
       "    <tr>\n",
       "      <th>2023-09-25</th>\n",
       "      <td>233453.1</td>\n",
       "      <td>0</td>\n",
       "      <td>1</td>\n",
       "      <td>2125</td>\n",
       "      <td>49.4</td>\n",
       "      <td>50.0</td>\n",
       "      <td>5.9</td>\n",
       "      <td>21.0</td>\n",
       "      <td>0.0</td>\n",
       "      <td>0.0</td>\n",
       "      <td>0.0</td>\n",
       "      <td>0.0</td>\n",
       "      <td>0.0</td>\n",
       "      <td>0.0</td>\n",
       "      <td>0.0</td>\n",
       "      <td>0.0</td>\n",
       "      <td>0.0</td>\n",
       "      <td>0.0</td>\n",
       "      <td>0.0</td>\n",
       "      <td>0.0</td>\n",
       "      <td>0.0</td>\n",
       "      <td>0.0</td>\n",
       "      <td>0.0</td>\n",
       "      <td>0.0</td>\n",
       "      <td>0.0</td>\n",
       "      <td>0.0</td>\n",
       "      <td>0.0</td>\n",
       "      <td>0.0</td>\n",
       "      <td>0.0</td>\n",
       "      <td>1.0</td>\n",
       "      <td>0.0</td>\n",
       "      <td>0.0</td>\n",
       "      <td>0.0</td>\n",
       "      <td>0.0</td>\n",
       "      <td>0.0</td>\n",
       "      <td>0.0</td>\n",
       "      <td>0.0</td>\n",
       "      <td>0.0</td>\n",
       "      <td>0.0</td>\n",
       "      <td>0.0</td>\n",
       "      <td>0.0</td>\n",
       "      <td>0.0</td>\n",
       "      <td>0.0</td>\n",
       "      <td>0.0</td>\n",
       "      <td>0.0</td>\n",
       "      <td>0.0</td>\n",
       "      <td>0.0</td>\n",
       "      <td>0.0</td>\n",
       "      <td>0.0</td>\n",
       "      <td>0.0</td>\n",
       "    </tr>\n",
       "  </tbody>\n",
       "</table>\n",
       "</div>"
      ],
      "text/plain": [
       "            Demanda_SIN  Covid  Cambio_nivel  Tiempo  VV_10_MEDIA_D  VV_10_VECT_MEDIA_D  PT_10_TT_D  THSM_MEDIA_D  TIPO_DIA_1--ENE  TIPO_DIA_1--MAY  TIPO_DIA_2--ENE  TIPO_DIA_20--JUL  TIPO_DIA_24--DIC  TIPO_DIA_25--DIC  TIPO_DIA_31--DIC  TIPO_DIA_7--AGO  TIPO_DIA_8--DIC  TIPO_DIA_DOALF  TIPO_DIA_DOALFENE  TIPO_DIA_DOMINGO  TIPO_DIA_DOVDIC  TIPO_DIA_DOVENE  TIPO_DIA_DSS  TIPO_DIA_JSS  TIPO_DIA_JUEVES  TIPO_DIA_JUVDIC  TIPO_DIA_JUVENE  TIPO_DIA_LF  TIPO_DIA_LFENE  TIPO_DIA_LUNES  TIPO_DIA_LUVDIC  TIPO_DIA_LUVENE  TIPO_DIA_MADLF  TIPO_DIA_MARTES  TIPO_DIA_MAVDIC  TIPO_DIA_MAVENE  TIPO_DIA_MIERCOLES  TIPO_DIA_MIVDIC  TIPO_DIA_MIVENE  TIPO_DIA_MSS  TIPO_DIA_SAALF  TIPO_DIA_SAALFENE  TIPO_DIA_SABADO  TIPO_DIA_SAVDIC  TIPO_DIA_SAVENE  TIPO_DIA_SSS  TIPO_DIA_VIERNES  TIPO_DIA_VIVDIC  TIPO_DIA_VIVENE  TIPO_DIA_VSS\n",
       "FECHA                                                                                                                                                                                                                                                                                                                                                                                                                                                                                                                                                                                                                                                                                                                                                                                                                                           \n",
       "2023-09-24     203949.3      0             1    2124           49.4                49.9         5.8          21.0              0.0              0.0              0.0               0.0               0.0               0.0               0.0              0.0              0.0             0.0                0.0               1.0              0.0              0.0           0.0           0.0              0.0              0.0              0.0          0.0             0.0             0.0              0.0              0.0             0.0              0.0              0.0              0.0                 0.0              0.0              0.0           0.0             0.0                0.0              0.0              0.0              0.0           0.0               0.0              0.0              0.0           0.0\n",
       "2023-09-25     233453.1      0             1    2125           49.4                50.0         5.9          21.0              0.0              0.0              0.0               0.0               0.0               0.0               0.0              0.0              0.0             0.0                0.0               0.0              0.0              0.0           0.0           0.0              0.0              0.0              0.0          0.0             0.0             1.0              0.0              0.0             0.0              0.0              0.0              0.0                 0.0              0.0              0.0           0.0             0.0                0.0              0.0              0.0              0.0           0.0               0.0              0.0              0.0           0.0"
      ]
     },
     "execution_count": 7,
     "metadata": {},
     "output_type": "execute_result"
    }
   ],
   "source": [
    "# Separación datos train-val-test................\n",
    "#-------------------------------------------------------------------------------------------------------------------------------------------\n",
    "\n",
    "datos = df[df.index >= '2017-12-01']\n",
    "fin_train = '2023-05-31'\n",
    "fin_validacion = '2023-09-23'\n",
    "\n",
    "datos_train = datos[datos.index <= fin_train].copy()\n",
    "datos_val = datos[(datos.index > fin_train) & (datos.index <= fin_validacion)].copy()\n",
    "datos_test = datos[datos.index > fin_validacion].copy()\n",
    "\n",
    "print(f\"Fechas train      : {datos_train.index.min()} --- {datos_train.index.max()}  (n={len(datos_train)})\")\n",
    "print(f\"Fechas validacion : {datos_val.index.min()} --- {datos_val.index.max()}  (n={len(datos_val)})\")\n",
    "print(f\"Fechas test       : {datos_test.index.min()} --- {datos_test.index.max()}  (n={len(datos_test)})\")\n",
    "print(\"-------------------------------------------------------------------------------------------------------------------------------------\")\n",
    "\n",
    "datos_test.head(2)"
   ]
  },
  {
   "cell_type": "code",
   "execution_count": 8,
   "metadata": {},
   "outputs": [
    {
     "name": "stdout",
     "output_type": "stream",
     "text": [
      "(2008, 1, 49)\n",
      "(115, 1, 49)\n",
      "(7, 1, 49)\n"
     ]
    }
   ],
   "source": [
    "#Split and reshape.....\n",
    "\n",
    "#DATOS DE ENTRENAMIENTO\n",
    "X_train = datos_train.drop(\"Demanda_SIN\", axis=1)\n",
    "y_train = datos_train[\"Demanda_SIN\"]\n",
    "X_train = X_train.values\n",
    "X_train = X_train.reshape((X_train.shape[0],1,  X_train.shape[1]))\n",
    "print(X_train.shape)\n",
    "\n",
    "# DATOS DE VALIDACIÓN\n",
    "X_val = datos_val.drop(\"Demanda_SIN\", axis=1)\n",
    "y_val = datos_val[\"Demanda_SIN\"]\n",
    "X_val=X_val.values\n",
    "X_val = X_val.reshape((X_val.shape[0],1,  X_val.shape[1]))\n",
    "print(X_val.shape)\n",
    "\n",
    "# DATOS DE TEST\n",
    "X_test = datos_test.drop(\"Demanda_SIN\", axis=1)\n",
    "y_test = datos_test[\"Demanda_SIN\"]\n",
    "X_test=X_test.values\n",
    "X_test = X_test.reshape((X_test.shape[0],1,  X_test.shape[1]))\n",
    "print(X_test.shape)"
   ]
  },
  {
   "cell_type": "code",
   "execution_count": 9,
   "metadata": {},
   "outputs": [
    {
     "data": {
      "text/plain": [
       "<keras.src.callbacks.EarlyStopping at 0x1d93ac750a0>"
      ]
     },
     "execution_count": 9,
     "metadata": {},
     "output_type": "execute_result"
    }
   ],
   "source": [
    "early_stopping = EarlyStopping(monitor=\"val_loss\", patience=20)\n",
    "early_stopping"
   ]
  },
  {
   "cell_type": "markdown",
   "metadata": {},
   "source": [
    "### Red neuronal recurrente (RNN) simple"
   ]
  },
  {
   "cell_type": "code",
   "execution_count": 10,
   "metadata": {},
   "outputs": [
    {
     "name": "stdout",
     "output_type": "stream",
     "text": [
      "Reloading Tuner from RNN\\untitled_project\\tuner0.json\n"
     ]
    }
   ],
   "source": [
    "rnn_tuner = RandomSearch(hypermodel=tool.rnn_tools.create_simple_rnn,\n",
    "                         objective=\"val_mse\",\n",
    "                         max_trials=10,\n",
    "                         seed=42,\n",
    "                         directory=\"RNN\")\n",
    "\n",
    "rnn_tuner.search(X_train, y_train, epochs=1000, validation_data=(X_val, y_val), callbacks=[early_stopping]) "
   ]
  },
  {
   "cell_type": "code",
   "execution_count": 11,
   "metadata": {},
   "outputs": [
    {
     "name": "stdout",
     "output_type": "stream",
     "text": [
      "Model: \"sequential\"\n",
      "_________________________________________________________________\n",
      " Layer (type)                Output Shape              Param #   \n",
      "=================================================================\n",
      " simple_rnn (SimpleRNN)      (None, 1, 96)             14016     \n",
      "                                                                 \n",
      " dropout (Dropout)           (None, 1, 96)             0         \n",
      "                                                                 \n",
      " simple_rnn_1 (SimpleRNN)    (None, 1, 128)            28800     \n",
      "                                                                 \n",
      " simple_rnn_2 (SimpleRNN)    (None, 1, 32)             5152      \n",
      "                                                                 \n",
      " simple_rnn_3 (SimpleRNN)    (None, 96)                12384     \n",
      "                                                                 \n",
      " dropout_1 (Dropout)         (None, 96)                0         \n",
      "                                                                 \n",
      " dense (Dense)               (None, 1)                 97        \n",
      "                                                                 \n",
      "=================================================================\n",
      "Total params: 60449 (236.13 KB)\n",
      "Trainable params: 60449 (236.13 KB)\n",
      "Non-trainable params: 0 (0.00 Byte)\n",
      "_________________________________________________________________\n"
     ]
    }
   ],
   "source": [
    "rnn = rnn_tuner.get_best_models(num_models=1)[0]\n",
    "rnn.summary()"
   ]
  },
  {
   "cell_type": "code",
   "execution_count": 12,
   "metadata": {},
   "outputs": [
    {
     "name": "stdout",
     "output_type": "stream",
     "text": [
      "Número de parámetros entrenables: 60449\n",
      "Capa 0: Función de activación = <function relu at 0x000001B2A4F20EE0>\n",
      "Capa 1: Función de activación = <function selu at 0x000001B2A4F20820>\n",
      "Capa 2: Función de activación = <function relu at 0x000001B2A4F20EE0>\n",
      "Capa 3: Función de activación = <function relu at 0x000001B2A4F20EE0>\n",
      "Capa 4: Función de activación = <function linear at 0x000001B2A4F2A940>\n"
     ]
    }
   ],
   "source": [
    "#Save model...\n",
    "#-----------------------------------------------------------------------------------------------------------\n",
    "rnn.save(\"Rnn_models/rnn.h5\")\n",
    "#-----------------------------------------------------------------------------------------------------------\n",
    "\n",
    "print(f\"Número de parámetros entrenables: {rnn.count_params()}\")\n",
    "\n",
    "for i, activation in enumerate([layer.activation for layer in rnn.layers if hasattr(layer, 'activation')]):\n",
    "    print(f'Capa {i}: Función de activación = {activation}')"
   ]
  },
  {
   "cell_type": "markdown",
   "metadata": {},
   "source": [
    "### LSTM"
   ]
  },
  {
   "cell_type": "code",
   "execution_count": 13,
   "metadata": {},
   "outputs": [
    {
     "name": "stdout",
     "output_type": "stream",
     "text": [
      "Trial 10 Complete [00h 00m 29s]\n",
      "val_mse: 210568144.0\n",
      "\n",
      "Best val_mse So Far: 74764848.0\n",
      "Total elapsed time: 00h 50m 44s\n"
     ]
    }
   ],
   "source": [
    "clear_session()\n",
    "\n",
    "lstm_tuner = RandomSearch(hypermodel=tool.rnn_tools.create_lstm, \n",
    "                          objective=\"val_mse\",\n",
    "                          max_trials=10,\n",
    "                          seed=42,\n",
    "                          directory=\"LSTM\")\n",
    "\n",
    "lstm_tuner.search(X_train, y_train, epochs=1000, validation_data=(X_val, y_val), callbacks=[early_stopping])"
   ]
  },
  {
   "cell_type": "code",
   "execution_count": 14,
   "metadata": {},
   "outputs": [
    {
     "name": "stdout",
     "output_type": "stream",
     "text": [
      "Model: \"sequential\"\n",
      "_________________________________________________________________\n",
      " Layer (type)                Output Shape              Param #   \n",
      "=================================================================\n",
      " lstm (LSTM)                 (None, 1, 96)             56064     \n",
      "                                                                 \n",
      " dropout (Dropout)           (None, 1, 96)             0         \n",
      "                                                                 \n",
      " lstm_1 (LSTM)               (None, 1, 128)            115200    \n",
      "                                                                 \n",
      " lstm_2 (LSTM)               (None, 1, 32)             20608     \n",
      "                                                                 \n",
      " lstm_3 (LSTM)               (None, 32)                8320      \n",
      "                                                                 \n",
      " dropout_1 (Dropout)         (None, 32)                0         \n",
      "                                                                 \n",
      " dense (Dense)               (None, 1)                 33        \n",
      "                                                                 \n",
      "=================================================================\n",
      "Total params: 200225 (782.13 KB)\n",
      "Trainable params: 200225 (782.13 KB)\n",
      "Non-trainable params: 0 (0.00 Byte)\n",
      "_________________________________________________________________\n"
     ]
    }
   ],
   "source": [
    "lstm = lstm_tuner.get_best_models(num_models=1)[0]\n",
    "lstm.summary()"
   ]
  },
  {
   "cell_type": "code",
   "execution_count": 15,
   "metadata": {},
   "outputs": [
    {
     "name": "stdout",
     "output_type": "stream",
     "text": [
      "Capa 0: Función de activación = <function relu at 0x000001B2A4F20EE0>\n",
      "Capa 1: Función de activación = <function relu at 0x000001B2A4F20EE0>\n",
      "Capa 2: Función de activación = <function relu at 0x000001B2A4F20EE0>\n",
      "Capa 3: Función de activación = <function relu at 0x000001B2A4F20EE0>\n",
      "Capa 4: Función de activación = <function linear at 0x000001B2A4F2A940>\n"
     ]
    }
   ],
   "source": [
    "#Save model...\n",
    "#-----------------------------------------------------------------------------------------------------------\n",
    "lstm.save(\"Rnn_models/lstm.h5\")\n",
    "#-----------------------------------------------------------------------------------------------------------\n",
    "\n",
    "for i, activation in enumerate([layer.activation for layer in lstm.layers if hasattr(layer, 'activation')]):\n",
    "    print(f'Capa {i}: Función de activación = {activation}')"
   ]
  },
  {
   "cell_type": "markdown",
   "metadata": {},
   "source": [
    "### GRU"
   ]
  },
  {
   "cell_type": "code",
   "execution_count": 16,
   "metadata": {},
   "outputs": [
    {
     "name": "stdout",
     "output_type": "stream",
     "text": [
      "Trial 10 Complete [00h 00m 44s]\n",
      "val_mse: 232235184.0\n",
      "\n",
      "Best val_mse So Far: 61491932.0\n",
      "Total elapsed time: 00h 49m 31s\n"
     ]
    }
   ],
   "source": [
    "gru_tuner = RandomSearch(hypermodel=tool.rnn_tools.create_gru, \n",
    "                         objective=\"val_mse\",\n",
    "                         max_trials=10,\n",
    "                         seed=42,\n",
    "                         directory=\"GRU\")\n",
    "\n",
    "gru_tuner.search(X_train, y_train, epochs=1000, validation_data=(X_val, y_val), callbacks=[early_stopping])"
   ]
  },
  {
   "cell_type": "code",
   "execution_count": 17,
   "metadata": {},
   "outputs": [
    {
     "name": "stdout",
     "output_type": "stream",
     "text": [
      "Model: \"sequential\"\n",
      "_________________________________________________________________\n",
      " Layer (type)                Output Shape              Param #   \n",
      "=================================================================\n",
      " gru (GRU)                   (None, 1, 96)             42336     \n",
      "                                                                 \n",
      " dropout (Dropout)           (None, 1, 96)             0         \n",
      "                                                                 \n",
      " gru_1 (GRU)                 (None, 1, 128)            86784     \n",
      "                                                                 \n",
      " gru_2 (GRU)                 (None, 1, 32)             15552     \n",
      "                                                                 \n",
      " gru_3 (GRU)                 (None, 32)                6336      \n",
      "                                                                 \n",
      " dropout_1 (Dropout)         (None, 32)                0         \n",
      "                                                                 \n",
      " dense (Dense)               (None, 1)                 33        \n",
      "                                                                 \n",
      "=================================================================\n",
      "Total params: 151041 (590.00 KB)\n",
      "Trainable params: 151041 (590.00 KB)\n",
      "Non-trainable params: 0 (0.00 Byte)\n",
      "_________________________________________________________________\n"
     ]
    }
   ],
   "source": [
    "gru = gru_tuner.get_best_models(num_models=1)[0]\n",
    "gru.summary()"
   ]
  },
  {
   "cell_type": "code",
   "execution_count": 18,
   "metadata": {},
   "outputs": [
    {
     "name": "stdout",
     "output_type": "stream",
     "text": [
      "Capa 0: Función de activación = <function relu at 0x000001B2A4F20EE0>\n",
      "Capa 1: Función de activación = <function relu at 0x000001B2A4F20EE0>\n",
      "Capa 2: Función de activación = <function relu at 0x000001B2A4F20EE0>\n",
      "Capa 3: Función de activación = <function relu at 0x000001B2A4F20EE0>\n",
      "Capa 4: Función de activación = <function linear at 0x000001B2A4F2A940>\n"
     ]
    }
   ],
   "source": [
    "#Save model...\n",
    "#-----------------------------------------------------------------------------------------------------------\n",
    "gru.save(\"Rnn_models/gru.h5\")\n",
    "#-----------------------------------------------------------------------------------------------------------\n",
    "\n",
    "# Obtener las capas de activación para cada capa de la red\n",
    "activation_layers = [layer.activation for layer in gru.layers if hasattr(layer, 'activation')]\n",
    "\n",
    "# Imprimir las funciones de activación elegidas para cada capa\n",
    "for i, activation in enumerate(activation_layers):\n",
    "    print(f'Capa {i}: Función de activación = {activation}')"
   ]
  },
  {
   "cell_type": "markdown",
   "metadata": {},
   "source": [
    "### Bidirectional LSTM"
   ]
  },
  {
   "cell_type": "code",
   "execution_count": 21,
   "metadata": {},
   "outputs": [
    {
     "name": "stdout",
     "output_type": "stream",
     "text": [
      "Trial 10 Complete [00h 00m 56s]\n",
      "val_mse: 151661488.0\n",
      "\n",
      "Best val_mse So Far: 68553184.0\n",
      "Total elapsed time: 01h 36m 00s\n"
     ]
    }
   ],
   "source": [
    "clear_session()\n",
    "\n",
    "bilstm_tuner = RandomSearch(hypermodel=tool.rnn_tools.create_bidirectionallstm, \n",
    "                          objective=\"val_mse\",\n",
    "                          max_trials=10,\n",
    "                          seed=42,\n",
    "                          directory=\"BiLSTM\")\n",
    "\n",
    "bilstm_tuner.search(X_train, y_train, epochs=1000, validation_data=(X_val, y_val), callbacks=[early_stopping])"
   ]
  },
  {
   "cell_type": "code",
   "execution_count": 22,
   "metadata": {},
   "outputs": [
    {
     "name": "stdout",
     "output_type": "stream",
     "text": [
      "Model: \"sequential\"\n",
      "_________________________________________________________________\n",
      " Layer (type)                Output Shape              Param #   \n",
      "=================================================================\n",
      " bidirectional (Bidirection  (None, 1, 192)            112128    \n",
      " al)                                                             \n",
      "                                                                 \n",
      " dropout (Dropout)           (None, 1, 192)            0         \n",
      "                                                                 \n",
      " bidirectional_1 (Bidirecti  (None, 1, 256)            328704    \n",
      " onal)                                                           \n",
      "                                                                 \n",
      " bidirectional_2 (Bidirecti  (None, 1, 64)             73984     \n",
      " onal)                                                           \n",
      "                                                                 \n",
      " bidirectional_3 (Bidirecti  (None, 64)                24832     \n",
      " onal)                                                           \n",
      "                                                                 \n",
      " dropout_1 (Dropout)         (None, 64)                0         \n",
      "                                                                 \n",
      " dense (Dense)               (None, 1)                 65        \n",
      "                                                                 \n",
      "=================================================================\n",
      "Total params: 539713 (2.06 MB)\n",
      "Trainable params: 539713 (2.06 MB)\n",
      "Non-trainable params: 0 (0.00 Byte)\n",
      "_________________________________________________________________\n"
     ]
    }
   ],
   "source": [
    "best_hyperparameters = bilstm_tuner.get_best_hyperparameters(num_trials=1)[0]\n",
    "bidirectional_lstm = bilstm_tuner.get_best_models(num_models=1)[0]\n",
    "\n",
    "bidirectional_lstm.build((None, 1, 49)) \n",
    "\n",
    "bidirectional_lstm.summary()"
   ]
  },
  {
   "cell_type": "code",
   "execution_count": 23,
   "metadata": {},
   "outputs": [],
   "source": [
    "#Save model...\n",
    "#-----------------------------------------------------------------------------------------------------------\n",
    "bidirectional_lstm.save(\"Rnn_models/bidirectional_lstm.h5\")\n",
    "#-----------------------------------------------------------------------------------------------------------"
   ]
  },
  {
   "cell_type": "markdown",
   "metadata": {},
   "source": [
    "### EVALUACIÓN"
   ]
  },
  {
   "cell_type": "code",
   "execution_count": 11,
   "metadata": {},
   "outputs": [],
   "source": [
    "rnn  = load_model(\"Rnn_models/rnn.h5\")\n",
    "lstm = load_model(\"Rnn_models/lstm.h5\")\n",
    "gru = load_model(\"Rnn_models/gru.h5\")\n",
    "bidirectional_lstm = load_model(\"Rnn_models/bidirectional_lstm.h5\")"
   ]
  },
  {
   "cell_type": "code",
   "execution_count": 12,
   "metadata": {},
   "outputs": [
    {
     "name": "stdout",
     "output_type": "stream",
     "text": [
      "Las metricas para la arquitectura RNN:\n",
      "El RMSE es: 7634.6477\n",
      "El MAE es: 6812.3114\n",
      "El MAPE es: 0.0302\n",
      "------------------------------------------------------------\n",
      "Las metricas para la arquitectura LSTM:\n",
      "El RMSE es: 7114.5514\n",
      "El MAE es: 6658.4878\n",
      "El MAPE es: 0.0293\n",
      "------------------------------------------------------------\n",
      "Las metricas para la arquitectura GRU:\n",
      "El RMSE es: 7352.4034\n",
      "El MAE es: 7203.0614\n",
      "El MAPE es: 0.0311\n",
      "------------------------------------------------------------\n",
      "Las metricas para la arquitectura BidirectionalLSTM:\n",
      "El RMSE es: 7300.0224\n",
      "El MAE es: 7033.5034\n",
      "El MAPE es: 0.0308\n",
      "------------------------------------------------------------\n"
     ]
    }
   ],
   "source": [
    "models = [(\"RNN\", rnn), (\"LSTM\", lstm),  (\"GRU\", gru), (\"BidirectionalLSTM\", bidirectional_lstm)] \n",
    " \n",
    "for name, model in models:\n",
    "    print(f\"Las metricas para la arquitectura {name}:\")\n",
    "    evaluation = tool.RegressionEvaluator(predicted=model.predict(X_test, verbose=0).ravel(), \n",
    "                                     observed=y_test)\n",
    "    evaluation.print_metrics()\n",
    "    print(f\"--\" * 30)"
   ]
  },
  {
   "cell_type": "code",
   "execution_count": 22,
   "metadata": {},
   "outputs": [
    {
     "data": {
      "text/plain": [
       "3.08"
      ]
     },
     "execution_count": 22,
     "metadata": {},
     "output_type": "execute_result"
    }
   ],
   "source": [
    "0.0308*100"
   ]
  },
  {
   "cell_type": "code",
   "execution_count": 13,
   "metadata": {},
   "outputs": [],
   "source": [
    "test = pd.concat(objs=[pd.Series(model.predict(X_test, verbose=0).ravel(),\n",
    "                                 name=f\"{name}_forecast\",\n",
    "                                 index=y_test.index) for name, model in models], axis=1).join(y_test)\n",
    "test.head(2)\n",
    "test.rename(columns={'Demanda_SIN': 'Real Demand'}, inplace=True)"
   ]
  },
  {
   "cell_type": "code",
   "execution_count": 32,
   "metadata": {},
   "outputs": [
    {
     "data": {
      "application/vnd.plotly.v1+json": {
       "config": {
        "plotlyServerURL": "https://plot.ly"
       },
       "data": [
        {
         "hovertemplate": "variable=RNN_forecast<br>FECHA=%{x}<br>value=%{y}<extra></extra>",
         "legendgroup": "RNN_forecast",
         "line": {
          "color": "#276981",
          "dash": "solid"
         },
         "marker": {
          "symbol": "circle"
         },
         "mode": "lines",
         "name": "RNN_forecast",
         "orientation": "v",
         "showlegend": true,
         "type": "scatter",
         "x": [
          "2023-09-24T00:00:00",
          "2023-09-25T00:00:00",
          "2023-09-26T00:00:00",
          "2023-09-27T00:00:00",
          "2023-09-28T00:00:00",
          "2023-09-29T00:00:00",
          "2023-09-30T00:00:00"
         ],
         "xaxis": "x",
         "y": [
          218153.390625,
          229240.890625,
          229858.109375,
          230113.484375,
          230560.015625,
          230779.453125,
          225600.015625
         ],
         "yaxis": "y"
        },
        {
         "hovertemplate": "variable=LSTM_forecast<br>FECHA=%{x}<br>value=%{y}<extra></extra>",
         "legendgroup": "LSTM_forecast",
         "line": {
          "color": "#9e9764",
          "dash": "dash"
         },
         "marker": {
          "symbol": "circle"
         },
         "mode": "lines",
         "name": "LSTM_forecast",
         "orientation": "v",
         "showlegend": true,
         "type": "scatter",
         "x": [
          "2023-09-24T00:00:00",
          "2023-09-25T00:00:00",
          "2023-09-26T00:00:00",
          "2023-09-27T00:00:00",
          "2023-09-28T00:00:00",
          "2023-09-29T00:00:00",
          "2023-09-30T00:00:00"
         ],
         "xaxis": "x",
         "y": [
          215340.875,
          228408.296875,
          229629.734375,
          229845.765625,
          230640.1875,
          230729.546875,
          225162.609375
         ],
         "yaxis": "y"
        },
        {
         "hovertemplate": "variable=GRU_forecast<br>FECHA=%{x}<br>value=%{y}<extra></extra>",
         "legendgroup": "GRU_forecast",
         "line": {
          "color": "#642424",
          "dash": "dot"
         },
         "marker": {
          "symbol": "circle"
         },
         "mode": "lines",
         "name": "GRU_forecast",
         "orientation": "v",
         "showlegend": true,
         "type": "scatter",
         "x": [
          "2023-09-24T00:00:00",
          "2023-09-25T00:00:00",
          "2023-09-26T00:00:00",
          "2023-09-27T00:00:00",
          "2023-09-28T00:00:00",
          "2023-09-29T00:00:00",
          "2023-09-30T00:00:00"
         ],
         "xaxis": "x",
         "y": [
          209295.28125,
          226251.5,
          228741.5,
          228569.515625,
          229329.4375,
          229203.953125,
          222462.640625
         ],
         "yaxis": "y"
        },
        {
         "hovertemplate": "variable=BidirectionalLSTM_forecast<br>FECHA=%{x}<br>value=%{y}<extra></extra>",
         "legendgroup": "BidirectionalLSTM_forecast",
         "line": {
          "color": "#001a57",
          "dash": "dashdot"
         },
         "marker": {
          "symbol": "circle"
         },
         "mode": "lines",
         "name": "BidirectionalLSTM_forecast",
         "orientation": "v",
         "showlegend": true,
         "type": "scatter",
         "x": [
          "2023-09-24T00:00:00",
          "2023-09-25T00:00:00",
          "2023-09-26T00:00:00",
          "2023-09-27T00:00:00",
          "2023-09-28T00:00:00",
          "2023-09-29T00:00:00",
          "2023-09-30T00:00:00"
         ],
         "xaxis": "x",
         "y": [
          213940.4375,
          227504.140625,
          228921.484375,
          229511.578125,
          230041.515625,
          229635.265625,
          224776.578125
         ],
         "yaxis": "y"
        },
        {
         "hovertemplate": "variable=Real Demand<br>FECHA=%{x}<br>value=%{y}<extra></extra>",
         "legendgroup": "Real Demand",
         "line": {
          "color": "#e59882",
          "dash": "longdash"
         },
         "marker": {
          "symbol": "circle"
         },
         "mode": "lines",
         "name": "Real Demand",
         "orientation": "v",
         "showlegend": true,
         "type": "scatter",
         "x": [
          "2023-09-24T00:00:00",
          "2023-09-25T00:00:00",
          "2023-09-26T00:00:00",
          "2023-09-27T00:00:00",
          "2023-09-28T00:00:00",
          "2023-09-29T00:00:00",
          "2023-09-30T00:00:00"
         ],
         "xaxis": "x",
         "y": [
          203949.2780599999,
          233453.0849399999,
          236506.3022299999,
          238964.9091799999,
          235940.3565699999,
          235929.6928,
          228839.6278499999
         ],
         "yaxis": "y"
        }
       ],
       "layout": {
        "legend": {
         "title": {
          "text": "variable"
         },
         "tracegroupgap": 0
        },
        "margin": {
         "t": 60
        },
        "template": {
         "data": {
          "bar": [
           {
            "error_x": {
             "color": "#2a3f5f"
            },
            "error_y": {
             "color": "#2a3f5f"
            },
            "marker": {
             "line": {
              "color": "#E5ECF6",
              "width": 0.5
             },
             "pattern": {
              "fillmode": "overlay",
              "size": 10,
              "solidity": 0.2
             }
            },
            "type": "bar"
           }
          ],
          "barpolar": [
           {
            "marker": {
             "line": {
              "color": "#E5ECF6",
              "width": 0.5
             },
             "pattern": {
              "fillmode": "overlay",
              "size": 10,
              "solidity": 0.2
             }
            },
            "type": "barpolar"
           }
          ],
          "carpet": [
           {
            "aaxis": {
             "endlinecolor": "#2a3f5f",
             "gridcolor": "white",
             "linecolor": "white",
             "minorgridcolor": "white",
             "startlinecolor": "#2a3f5f"
            },
            "baxis": {
             "endlinecolor": "#2a3f5f",
             "gridcolor": "white",
             "linecolor": "white",
             "minorgridcolor": "white",
             "startlinecolor": "#2a3f5f"
            },
            "type": "carpet"
           }
          ],
          "choropleth": [
           {
            "colorbar": {
             "outlinewidth": 0,
             "ticks": ""
            },
            "type": "choropleth"
           }
          ],
          "contour": [
           {
            "colorbar": {
             "outlinewidth": 0,
             "ticks": ""
            },
            "colorscale": [
             [
              0,
              "#0d0887"
             ],
             [
              0.1111111111111111,
              "#46039f"
             ],
             [
              0.2222222222222222,
              "#7201a8"
             ],
             [
              0.3333333333333333,
              "#9c179e"
             ],
             [
              0.4444444444444444,
              "#bd3786"
             ],
             [
              0.5555555555555556,
              "#d8576b"
             ],
             [
              0.6666666666666666,
              "#ed7953"
             ],
             [
              0.7777777777777778,
              "#fb9f3a"
             ],
             [
              0.8888888888888888,
              "#fdca26"
             ],
             [
              1,
              "#f0f921"
             ]
            ],
            "type": "contour"
           }
          ],
          "contourcarpet": [
           {
            "colorbar": {
             "outlinewidth": 0,
             "ticks": ""
            },
            "type": "contourcarpet"
           }
          ],
          "heatmap": [
           {
            "colorbar": {
             "outlinewidth": 0,
             "ticks": ""
            },
            "colorscale": [
             [
              0,
              "#0d0887"
             ],
             [
              0.1111111111111111,
              "#46039f"
             ],
             [
              0.2222222222222222,
              "#7201a8"
             ],
             [
              0.3333333333333333,
              "#9c179e"
             ],
             [
              0.4444444444444444,
              "#bd3786"
             ],
             [
              0.5555555555555556,
              "#d8576b"
             ],
             [
              0.6666666666666666,
              "#ed7953"
             ],
             [
              0.7777777777777778,
              "#fb9f3a"
             ],
             [
              0.8888888888888888,
              "#fdca26"
             ],
             [
              1,
              "#f0f921"
             ]
            ],
            "type": "heatmap"
           }
          ],
          "heatmapgl": [
           {
            "colorbar": {
             "outlinewidth": 0,
             "ticks": ""
            },
            "colorscale": [
             [
              0,
              "#0d0887"
             ],
             [
              0.1111111111111111,
              "#46039f"
             ],
             [
              0.2222222222222222,
              "#7201a8"
             ],
             [
              0.3333333333333333,
              "#9c179e"
             ],
             [
              0.4444444444444444,
              "#bd3786"
             ],
             [
              0.5555555555555556,
              "#d8576b"
             ],
             [
              0.6666666666666666,
              "#ed7953"
             ],
             [
              0.7777777777777778,
              "#fb9f3a"
             ],
             [
              0.8888888888888888,
              "#fdca26"
             ],
             [
              1,
              "#f0f921"
             ]
            ],
            "type": "heatmapgl"
           }
          ],
          "histogram": [
           {
            "marker": {
             "pattern": {
              "fillmode": "overlay",
              "size": 10,
              "solidity": 0.2
             }
            },
            "type": "histogram"
           }
          ],
          "histogram2d": [
           {
            "colorbar": {
             "outlinewidth": 0,
             "ticks": ""
            },
            "colorscale": [
             [
              0,
              "#0d0887"
             ],
             [
              0.1111111111111111,
              "#46039f"
             ],
             [
              0.2222222222222222,
              "#7201a8"
             ],
             [
              0.3333333333333333,
              "#9c179e"
             ],
             [
              0.4444444444444444,
              "#bd3786"
             ],
             [
              0.5555555555555556,
              "#d8576b"
             ],
             [
              0.6666666666666666,
              "#ed7953"
             ],
             [
              0.7777777777777778,
              "#fb9f3a"
             ],
             [
              0.8888888888888888,
              "#fdca26"
             ],
             [
              1,
              "#f0f921"
             ]
            ],
            "type": "histogram2d"
           }
          ],
          "histogram2dcontour": [
           {
            "colorbar": {
             "outlinewidth": 0,
             "ticks": ""
            },
            "colorscale": [
             [
              0,
              "#0d0887"
             ],
             [
              0.1111111111111111,
              "#46039f"
             ],
             [
              0.2222222222222222,
              "#7201a8"
             ],
             [
              0.3333333333333333,
              "#9c179e"
             ],
             [
              0.4444444444444444,
              "#bd3786"
             ],
             [
              0.5555555555555556,
              "#d8576b"
             ],
             [
              0.6666666666666666,
              "#ed7953"
             ],
             [
              0.7777777777777778,
              "#fb9f3a"
             ],
             [
              0.8888888888888888,
              "#fdca26"
             ],
             [
              1,
              "#f0f921"
             ]
            ],
            "type": "histogram2dcontour"
           }
          ],
          "mesh3d": [
           {
            "colorbar": {
             "outlinewidth": 0,
             "ticks": ""
            },
            "type": "mesh3d"
           }
          ],
          "parcoords": [
           {
            "line": {
             "colorbar": {
              "outlinewidth": 0,
              "ticks": ""
             }
            },
            "type": "parcoords"
           }
          ],
          "pie": [
           {
            "automargin": true,
            "type": "pie"
           }
          ],
          "scatter": [
           {
            "fillpattern": {
             "fillmode": "overlay",
             "size": 10,
             "solidity": 0.2
            },
            "type": "scatter"
           }
          ],
          "scatter3d": [
           {
            "line": {
             "colorbar": {
              "outlinewidth": 0,
              "ticks": ""
             }
            },
            "marker": {
             "colorbar": {
              "outlinewidth": 0,
              "ticks": ""
             }
            },
            "type": "scatter3d"
           }
          ],
          "scattercarpet": [
           {
            "marker": {
             "colorbar": {
              "outlinewidth": 0,
              "ticks": ""
             }
            },
            "type": "scattercarpet"
           }
          ],
          "scattergeo": [
           {
            "marker": {
             "colorbar": {
              "outlinewidth": 0,
              "ticks": ""
             }
            },
            "type": "scattergeo"
           }
          ],
          "scattergl": [
           {
            "marker": {
             "colorbar": {
              "outlinewidth": 0,
              "ticks": ""
             }
            },
            "type": "scattergl"
           }
          ],
          "scattermapbox": [
           {
            "marker": {
             "colorbar": {
              "outlinewidth": 0,
              "ticks": ""
             }
            },
            "type": "scattermapbox"
           }
          ],
          "scatterpolar": [
           {
            "marker": {
             "colorbar": {
              "outlinewidth": 0,
              "ticks": ""
             }
            },
            "type": "scatterpolar"
           }
          ],
          "scatterpolargl": [
           {
            "marker": {
             "colorbar": {
              "outlinewidth": 0,
              "ticks": ""
             }
            },
            "type": "scatterpolargl"
           }
          ],
          "scatterternary": [
           {
            "marker": {
             "colorbar": {
              "outlinewidth": 0,
              "ticks": ""
             }
            },
            "type": "scatterternary"
           }
          ],
          "surface": [
           {
            "colorbar": {
             "outlinewidth": 0,
             "ticks": ""
            },
            "colorscale": [
             [
              0,
              "#0d0887"
             ],
             [
              0.1111111111111111,
              "#46039f"
             ],
             [
              0.2222222222222222,
              "#7201a8"
             ],
             [
              0.3333333333333333,
              "#9c179e"
             ],
             [
              0.4444444444444444,
              "#bd3786"
             ],
             [
              0.5555555555555556,
              "#d8576b"
             ],
             [
              0.6666666666666666,
              "#ed7953"
             ],
             [
              0.7777777777777778,
              "#fb9f3a"
             ],
             [
              0.8888888888888888,
              "#fdca26"
             ],
             [
              1,
              "#f0f921"
             ]
            ],
            "type": "surface"
           }
          ],
          "table": [
           {
            "cells": {
             "fill": {
              "color": "#EBF0F8"
             },
             "line": {
              "color": "white"
             }
            },
            "header": {
             "fill": {
              "color": "#C8D4E3"
             },
             "line": {
              "color": "white"
             }
            },
            "type": "table"
           }
          ]
         },
         "layout": {
          "annotationdefaults": {
           "arrowcolor": "#2a3f5f",
           "arrowhead": 0,
           "arrowwidth": 1
          },
          "autotypenumbers": "strict",
          "coloraxis": {
           "colorbar": {
            "outlinewidth": 0,
            "ticks": ""
           }
          },
          "colorscale": {
           "diverging": [
            [
             0,
             "#8e0152"
            ],
            [
             0.1,
             "#c51b7d"
            ],
            [
             0.2,
             "#de77ae"
            ],
            [
             0.3,
             "#f1b6da"
            ],
            [
             0.4,
             "#fde0ef"
            ],
            [
             0.5,
             "#f7f7f7"
            ],
            [
             0.6,
             "#e6f5d0"
            ],
            [
             0.7,
             "#b8e186"
            ],
            [
             0.8,
             "#7fbc41"
            ],
            [
             0.9,
             "#4d9221"
            ],
            [
             1,
             "#276419"
            ]
           ],
           "sequential": [
            [
             0,
             "#0d0887"
            ],
            [
             0.1111111111111111,
             "#46039f"
            ],
            [
             0.2222222222222222,
             "#7201a8"
            ],
            [
             0.3333333333333333,
             "#9c179e"
            ],
            [
             0.4444444444444444,
             "#bd3786"
            ],
            [
             0.5555555555555556,
             "#d8576b"
            ],
            [
             0.6666666666666666,
             "#ed7953"
            ],
            [
             0.7777777777777778,
             "#fb9f3a"
            ],
            [
             0.8888888888888888,
             "#fdca26"
            ],
            [
             1,
             "#f0f921"
            ]
           ],
           "sequentialminus": [
            [
             0,
             "#0d0887"
            ],
            [
             0.1111111111111111,
             "#46039f"
            ],
            [
             0.2222222222222222,
             "#7201a8"
            ],
            [
             0.3333333333333333,
             "#9c179e"
            ],
            [
             0.4444444444444444,
             "#bd3786"
            ],
            [
             0.5555555555555556,
             "#d8576b"
            ],
            [
             0.6666666666666666,
             "#ed7953"
            ],
            [
             0.7777777777777778,
             "#fb9f3a"
            ],
            [
             0.8888888888888888,
             "#fdca26"
            ],
            [
             1,
             "#f0f921"
            ]
           ]
          },
          "colorway": [
           "#636efa",
           "#EF553B",
           "#00cc96",
           "#ab63fa",
           "#FFA15A",
           "#19d3f3",
           "#FF6692",
           "#B6E880",
           "#FF97FF",
           "#FECB52"
          ],
          "font": {
           "color": "#2a3f5f"
          },
          "geo": {
           "bgcolor": "white",
           "lakecolor": "white",
           "landcolor": "#E5ECF6",
           "showlakes": true,
           "showland": true,
           "subunitcolor": "white"
          },
          "hoverlabel": {
           "align": "left"
          },
          "hovermode": "closest",
          "mapbox": {
           "style": "light"
          },
          "paper_bgcolor": "white",
          "plot_bgcolor": "#E5ECF6",
          "polar": {
           "angularaxis": {
            "gridcolor": "white",
            "linecolor": "white",
            "ticks": ""
           },
           "bgcolor": "#E5ECF6",
           "radialaxis": {
            "gridcolor": "white",
            "linecolor": "white",
            "ticks": ""
           }
          },
          "scene": {
           "xaxis": {
            "backgroundcolor": "#E5ECF6",
            "gridcolor": "white",
            "gridwidth": 2,
            "linecolor": "white",
            "showbackground": true,
            "ticks": "",
            "zerolinecolor": "white"
           },
           "yaxis": {
            "backgroundcolor": "#E5ECF6",
            "gridcolor": "white",
            "gridwidth": 2,
            "linecolor": "white",
            "showbackground": true,
            "ticks": "",
            "zerolinecolor": "white"
           },
           "zaxis": {
            "backgroundcolor": "#E5ECF6",
            "gridcolor": "white",
            "gridwidth": 2,
            "linecolor": "white",
            "showbackground": true,
            "ticks": "",
            "zerolinecolor": "white"
           }
          },
          "shapedefaults": {
           "line": {
            "color": "#2a3f5f"
           }
          },
          "ternary": {
           "aaxis": {
            "gridcolor": "white",
            "linecolor": "white",
            "ticks": ""
           },
           "baxis": {
            "gridcolor": "white",
            "linecolor": "white",
            "ticks": ""
           },
           "bgcolor": "#E5ECF6",
           "caxis": {
            "gridcolor": "white",
            "linecolor": "white",
            "ticks": ""
           }
          },
          "title": {
           "x": 0.05
          },
          "xaxis": {
           "automargin": true,
           "gridcolor": "white",
           "linecolor": "white",
           "ticks": "",
           "title": {
            "standoff": 15
           },
           "zerolinecolor": "white",
           "zerolinewidth": 2
          },
          "yaxis": {
           "automargin": true,
           "gridcolor": "white",
           "linecolor": "white",
           "ticks": "",
           "title": {
            "standoff": 15
           },
           "zerolinecolor": "white",
           "zerolinewidth": 2
          }
         }
        },
        "xaxis": {
         "anchor": "y",
         "domain": [
          0,
          1
         ],
         "title": {
          "text": "Date-daily"
         }
        },
        "yaxis": {
         "anchor": "x",
         "domain": [
          0,
          1
         ],
         "title": {
          "text": "Electricity Demand SIN kWh"
         }
        }
       }
      }
     },
     "metadata": {},
     "output_type": "display_data"
    }
   ],
   "source": [
    "import plotly.express as px\n",
    "\n",
    "# Colores utilizados en el gráfico anterior\n",
    "color_discrete_sequence = ['#276981', '#9e9764', '#642424', '#001a57', '#e59882']\n",
    "\n",
    "# Crear un gráfico de líneas\n",
    "fig = px.line(test, x=test.index, y=['RNN_forecast', 'LSTM_forecast', 'GRU_forecast', 'BidirectionalLSTM_forecast', 'Real Demand'],\n",
    "              color_discrete_sequence=color_discrete_sequence)\n",
    "\n",
    "# Definir un conjunto de estilos de líneas (line_dash) para cada línea\n",
    "line_dash_styles = ['solid', 'dash', 'dot', 'dashdot', 'longdash']\n",
    "\n",
    "# Asignar un estilo de línea diferente a cada traza en el gráfico\n",
    "for i, trace in enumerate(fig.data):\n",
    "    trace.line.dash = line_dash_styles[i % len(line_dash_styles)]\n",
    "\n",
    "# Personalizar el gráfico\n",
    "fig.update_layout(\n",
    "    xaxis_title=\"Date-daily\",\n",
    "    yaxis_title=\"Electricity Demand SIN kWh\",\n",
    ")\n",
    "\n",
    "# Mostrar el gráfico\n",
    "fig.show()\n"
   ]
  },
  {
   "cell_type": "code",
   "execution_count": 35,
   "metadata": {},
   "outputs": [],
   "source": [
    "pronostico_xm=['198935.479304','225441.965435','231708.272221','232350.914002','232588.136322','233661.526792','220663.551312']\n",
    "pronostico_xm = [float(value) for value in pronostico_xm]\n",
    "\n",
    "# Agregar la nueva columna al DataFrame\n",
    "test['XM Forecast'] = pronostico_xm\n",
    "#test.reset_index()"
   ]
  },
  {
   "cell_type": "code",
   "execution_count": 37,
   "metadata": {},
   "outputs": [
    {
     "data": {
      "application/vnd.plotly.v1+json": {
       "config": {
        "plotlyServerURL": "https://plot.ly"
       },
       "data": [
        {
         "hovertemplate": "variable=RNN_forecast<br>FECHA=%{x}<br>value=%{y}<extra></extra>",
         "legendgroup": "RNN_forecast",
         "line": {
          "color": "#276981",
          "dash": "solid"
         },
         "marker": {
          "symbol": "circle"
         },
         "mode": "lines",
         "name": "RNN_forecast",
         "orientation": "v",
         "showlegend": true,
         "type": "scatter",
         "x": [
          "2023-09-24T00:00:00",
          "2023-09-25T00:00:00",
          "2023-09-26T00:00:00",
          "2023-09-27T00:00:00",
          "2023-09-28T00:00:00",
          "2023-09-29T00:00:00",
          "2023-09-30T00:00:00"
         ],
         "xaxis": "x",
         "y": [
          218153.390625,
          229240.890625,
          229858.109375,
          230113.484375,
          230560.015625,
          230779.453125,
          225600.015625
         ],
         "yaxis": "y"
        },
        {
         "hovertemplate": "variable=LSTM_forecast<br>FECHA=%{x}<br>value=%{y}<extra></extra>",
         "legendgroup": "LSTM_forecast",
         "line": {
          "color": "#9e9764",
          "dash": "dash"
         },
         "marker": {
          "symbol": "circle"
         },
         "mode": "lines",
         "name": "LSTM_forecast",
         "orientation": "v",
         "showlegend": true,
         "type": "scatter",
         "x": [
          "2023-09-24T00:00:00",
          "2023-09-25T00:00:00",
          "2023-09-26T00:00:00",
          "2023-09-27T00:00:00",
          "2023-09-28T00:00:00",
          "2023-09-29T00:00:00",
          "2023-09-30T00:00:00"
         ],
         "xaxis": "x",
         "y": [
          215340.875,
          228408.296875,
          229629.734375,
          229845.765625,
          230640.1875,
          230729.546875,
          225162.609375
         ],
         "yaxis": "y"
        },
        {
         "hovertemplate": "variable=GRU_forecast<br>FECHA=%{x}<br>value=%{y}<extra></extra>",
         "legendgroup": "GRU_forecast",
         "line": {
          "color": "#642424",
          "dash": "dot"
         },
         "marker": {
          "symbol": "circle"
         },
         "mode": "lines",
         "name": "GRU_forecast",
         "orientation": "v",
         "showlegend": true,
         "type": "scatter",
         "x": [
          "2023-09-24T00:00:00",
          "2023-09-25T00:00:00",
          "2023-09-26T00:00:00",
          "2023-09-27T00:00:00",
          "2023-09-28T00:00:00",
          "2023-09-29T00:00:00",
          "2023-09-30T00:00:00"
         ],
         "xaxis": "x",
         "y": [
          209295.28125,
          226251.5,
          228741.5,
          228569.515625,
          229329.4375,
          229203.953125,
          222462.640625
         ],
         "yaxis": "y"
        },
        {
         "hovertemplate": "variable=BidirectionalLSTM_forecast<br>FECHA=%{x}<br>value=%{y}<extra></extra>",
         "legendgroup": "BidirectionalLSTM_forecast",
         "line": {
          "color": "#001a57",
          "dash": "dashdot"
         },
         "marker": {
          "symbol": "circle"
         },
         "mode": "lines",
         "name": "BidirectionalLSTM_forecast",
         "orientation": "v",
         "showlegend": true,
         "type": "scatter",
         "x": [
          "2023-09-24T00:00:00",
          "2023-09-25T00:00:00",
          "2023-09-26T00:00:00",
          "2023-09-27T00:00:00",
          "2023-09-28T00:00:00",
          "2023-09-29T00:00:00",
          "2023-09-30T00:00:00"
         ],
         "xaxis": "x",
         "y": [
          213940.4375,
          227504.140625,
          228921.484375,
          229511.578125,
          230041.515625,
          229635.265625,
          224776.578125
         ],
         "yaxis": "y"
        },
        {
         "hovertemplate": "variable=Real Demand<br>FECHA=%{x}<br>value=%{y}<extra></extra>",
         "legendgroup": "Real Demand",
         "line": {
          "color": "#e59882",
          "dash": "longdash"
         },
         "marker": {
          "symbol": "circle"
         },
         "mode": "lines",
         "name": "Real Demand",
         "orientation": "v",
         "showlegend": true,
         "type": "scatter",
         "x": [
          "2023-09-24T00:00:00",
          "2023-09-25T00:00:00",
          "2023-09-26T00:00:00",
          "2023-09-27T00:00:00",
          "2023-09-28T00:00:00",
          "2023-09-29T00:00:00",
          "2023-09-30T00:00:00"
         ],
         "xaxis": "x",
         "y": [
          203949.2780599999,
          233453.0849399999,
          236506.3022299999,
          238964.9091799999,
          235940.3565699999,
          235929.6928,
          228839.6278499999
         ],
         "yaxis": "y"
        },
        {
         "hovertemplate": "variable=XM Forecast<br>FECHA=%{x}<br>value=%{y}<extra></extra>",
         "legendgroup": "XM Forecast",
         "line": {
          "color": "#9e9764",
          "dash": "solid"
         },
         "marker": {
          "symbol": "circle"
         },
         "mode": "lines",
         "name": "XM Forecast",
         "orientation": "v",
         "showlegend": true,
         "type": "scatter",
         "x": [
          "2023-09-24T00:00:00",
          "2023-09-25T00:00:00",
          "2023-09-26T00:00:00",
          "2023-09-27T00:00:00",
          "2023-09-28T00:00:00",
          "2023-09-29T00:00:00",
          "2023-09-30T00:00:00"
         ],
         "xaxis": "x",
         "y": [
          198935.479304,
          225441.965435,
          231708.272221,
          232350.914002,
          232588.136322,
          233661.526792,
          220663.551312
         ],
         "yaxis": "y"
        }
       ],
       "layout": {
        "legend": {
         "title": {
          "text": "variable"
         },
         "tracegroupgap": 0
        },
        "margin": {
         "t": 60
        },
        "template": {
         "data": {
          "bar": [
           {
            "error_x": {
             "color": "#2a3f5f"
            },
            "error_y": {
             "color": "#2a3f5f"
            },
            "marker": {
             "line": {
              "color": "#E5ECF6",
              "width": 0.5
             },
             "pattern": {
              "fillmode": "overlay",
              "size": 10,
              "solidity": 0.2
             }
            },
            "type": "bar"
           }
          ],
          "barpolar": [
           {
            "marker": {
             "line": {
              "color": "#E5ECF6",
              "width": 0.5
             },
             "pattern": {
              "fillmode": "overlay",
              "size": 10,
              "solidity": 0.2
             }
            },
            "type": "barpolar"
           }
          ],
          "carpet": [
           {
            "aaxis": {
             "endlinecolor": "#2a3f5f",
             "gridcolor": "white",
             "linecolor": "white",
             "minorgridcolor": "white",
             "startlinecolor": "#2a3f5f"
            },
            "baxis": {
             "endlinecolor": "#2a3f5f",
             "gridcolor": "white",
             "linecolor": "white",
             "minorgridcolor": "white",
             "startlinecolor": "#2a3f5f"
            },
            "type": "carpet"
           }
          ],
          "choropleth": [
           {
            "colorbar": {
             "outlinewidth": 0,
             "ticks": ""
            },
            "type": "choropleth"
           }
          ],
          "contour": [
           {
            "colorbar": {
             "outlinewidth": 0,
             "ticks": ""
            },
            "colorscale": [
             [
              0,
              "#0d0887"
             ],
             [
              0.1111111111111111,
              "#46039f"
             ],
             [
              0.2222222222222222,
              "#7201a8"
             ],
             [
              0.3333333333333333,
              "#9c179e"
             ],
             [
              0.4444444444444444,
              "#bd3786"
             ],
             [
              0.5555555555555556,
              "#d8576b"
             ],
             [
              0.6666666666666666,
              "#ed7953"
             ],
             [
              0.7777777777777778,
              "#fb9f3a"
             ],
             [
              0.8888888888888888,
              "#fdca26"
             ],
             [
              1,
              "#f0f921"
             ]
            ],
            "type": "contour"
           }
          ],
          "contourcarpet": [
           {
            "colorbar": {
             "outlinewidth": 0,
             "ticks": ""
            },
            "type": "contourcarpet"
           }
          ],
          "heatmap": [
           {
            "colorbar": {
             "outlinewidth": 0,
             "ticks": ""
            },
            "colorscale": [
             [
              0,
              "#0d0887"
             ],
             [
              0.1111111111111111,
              "#46039f"
             ],
             [
              0.2222222222222222,
              "#7201a8"
             ],
             [
              0.3333333333333333,
              "#9c179e"
             ],
             [
              0.4444444444444444,
              "#bd3786"
             ],
             [
              0.5555555555555556,
              "#d8576b"
             ],
             [
              0.6666666666666666,
              "#ed7953"
             ],
             [
              0.7777777777777778,
              "#fb9f3a"
             ],
             [
              0.8888888888888888,
              "#fdca26"
             ],
             [
              1,
              "#f0f921"
             ]
            ],
            "type": "heatmap"
           }
          ],
          "heatmapgl": [
           {
            "colorbar": {
             "outlinewidth": 0,
             "ticks": ""
            },
            "colorscale": [
             [
              0,
              "#0d0887"
             ],
             [
              0.1111111111111111,
              "#46039f"
             ],
             [
              0.2222222222222222,
              "#7201a8"
             ],
             [
              0.3333333333333333,
              "#9c179e"
             ],
             [
              0.4444444444444444,
              "#bd3786"
             ],
             [
              0.5555555555555556,
              "#d8576b"
             ],
             [
              0.6666666666666666,
              "#ed7953"
             ],
             [
              0.7777777777777778,
              "#fb9f3a"
             ],
             [
              0.8888888888888888,
              "#fdca26"
             ],
             [
              1,
              "#f0f921"
             ]
            ],
            "type": "heatmapgl"
           }
          ],
          "histogram": [
           {
            "marker": {
             "pattern": {
              "fillmode": "overlay",
              "size": 10,
              "solidity": 0.2
             }
            },
            "type": "histogram"
           }
          ],
          "histogram2d": [
           {
            "colorbar": {
             "outlinewidth": 0,
             "ticks": ""
            },
            "colorscale": [
             [
              0,
              "#0d0887"
             ],
             [
              0.1111111111111111,
              "#46039f"
             ],
             [
              0.2222222222222222,
              "#7201a8"
             ],
             [
              0.3333333333333333,
              "#9c179e"
             ],
             [
              0.4444444444444444,
              "#bd3786"
             ],
             [
              0.5555555555555556,
              "#d8576b"
             ],
             [
              0.6666666666666666,
              "#ed7953"
             ],
             [
              0.7777777777777778,
              "#fb9f3a"
             ],
             [
              0.8888888888888888,
              "#fdca26"
             ],
             [
              1,
              "#f0f921"
             ]
            ],
            "type": "histogram2d"
           }
          ],
          "histogram2dcontour": [
           {
            "colorbar": {
             "outlinewidth": 0,
             "ticks": ""
            },
            "colorscale": [
             [
              0,
              "#0d0887"
             ],
             [
              0.1111111111111111,
              "#46039f"
             ],
             [
              0.2222222222222222,
              "#7201a8"
             ],
             [
              0.3333333333333333,
              "#9c179e"
             ],
             [
              0.4444444444444444,
              "#bd3786"
             ],
             [
              0.5555555555555556,
              "#d8576b"
             ],
             [
              0.6666666666666666,
              "#ed7953"
             ],
             [
              0.7777777777777778,
              "#fb9f3a"
             ],
             [
              0.8888888888888888,
              "#fdca26"
             ],
             [
              1,
              "#f0f921"
             ]
            ],
            "type": "histogram2dcontour"
           }
          ],
          "mesh3d": [
           {
            "colorbar": {
             "outlinewidth": 0,
             "ticks": ""
            },
            "type": "mesh3d"
           }
          ],
          "parcoords": [
           {
            "line": {
             "colorbar": {
              "outlinewidth": 0,
              "ticks": ""
             }
            },
            "type": "parcoords"
           }
          ],
          "pie": [
           {
            "automargin": true,
            "type": "pie"
           }
          ],
          "scatter": [
           {
            "fillpattern": {
             "fillmode": "overlay",
             "size": 10,
             "solidity": 0.2
            },
            "type": "scatter"
           }
          ],
          "scatter3d": [
           {
            "line": {
             "colorbar": {
              "outlinewidth": 0,
              "ticks": ""
             }
            },
            "marker": {
             "colorbar": {
              "outlinewidth": 0,
              "ticks": ""
             }
            },
            "type": "scatter3d"
           }
          ],
          "scattercarpet": [
           {
            "marker": {
             "colorbar": {
              "outlinewidth": 0,
              "ticks": ""
             }
            },
            "type": "scattercarpet"
           }
          ],
          "scattergeo": [
           {
            "marker": {
             "colorbar": {
              "outlinewidth": 0,
              "ticks": ""
             }
            },
            "type": "scattergeo"
           }
          ],
          "scattergl": [
           {
            "marker": {
             "colorbar": {
              "outlinewidth": 0,
              "ticks": ""
             }
            },
            "type": "scattergl"
           }
          ],
          "scattermapbox": [
           {
            "marker": {
             "colorbar": {
              "outlinewidth": 0,
              "ticks": ""
             }
            },
            "type": "scattermapbox"
           }
          ],
          "scatterpolar": [
           {
            "marker": {
             "colorbar": {
              "outlinewidth": 0,
              "ticks": ""
             }
            },
            "type": "scatterpolar"
           }
          ],
          "scatterpolargl": [
           {
            "marker": {
             "colorbar": {
              "outlinewidth": 0,
              "ticks": ""
             }
            },
            "type": "scatterpolargl"
           }
          ],
          "scatterternary": [
           {
            "marker": {
             "colorbar": {
              "outlinewidth": 0,
              "ticks": ""
             }
            },
            "type": "scatterternary"
           }
          ],
          "surface": [
           {
            "colorbar": {
             "outlinewidth": 0,
             "ticks": ""
            },
            "colorscale": [
             [
              0,
              "#0d0887"
             ],
             [
              0.1111111111111111,
              "#46039f"
             ],
             [
              0.2222222222222222,
              "#7201a8"
             ],
             [
              0.3333333333333333,
              "#9c179e"
             ],
             [
              0.4444444444444444,
              "#bd3786"
             ],
             [
              0.5555555555555556,
              "#d8576b"
             ],
             [
              0.6666666666666666,
              "#ed7953"
             ],
             [
              0.7777777777777778,
              "#fb9f3a"
             ],
             [
              0.8888888888888888,
              "#fdca26"
             ],
             [
              1,
              "#f0f921"
             ]
            ],
            "type": "surface"
           }
          ],
          "table": [
           {
            "cells": {
             "fill": {
              "color": "#EBF0F8"
             },
             "line": {
              "color": "white"
             }
            },
            "header": {
             "fill": {
              "color": "#C8D4E3"
             },
             "line": {
              "color": "white"
             }
            },
            "type": "table"
           }
          ]
         },
         "layout": {
          "annotationdefaults": {
           "arrowcolor": "#2a3f5f",
           "arrowhead": 0,
           "arrowwidth": 1
          },
          "autotypenumbers": "strict",
          "coloraxis": {
           "colorbar": {
            "outlinewidth": 0,
            "ticks": ""
           }
          },
          "colorscale": {
           "diverging": [
            [
             0,
             "#8e0152"
            ],
            [
             0.1,
             "#c51b7d"
            ],
            [
             0.2,
             "#de77ae"
            ],
            [
             0.3,
             "#f1b6da"
            ],
            [
             0.4,
             "#fde0ef"
            ],
            [
             0.5,
             "#f7f7f7"
            ],
            [
             0.6,
             "#e6f5d0"
            ],
            [
             0.7,
             "#b8e186"
            ],
            [
             0.8,
             "#7fbc41"
            ],
            [
             0.9,
             "#4d9221"
            ],
            [
             1,
             "#276419"
            ]
           ],
           "sequential": [
            [
             0,
             "#0d0887"
            ],
            [
             0.1111111111111111,
             "#46039f"
            ],
            [
             0.2222222222222222,
             "#7201a8"
            ],
            [
             0.3333333333333333,
             "#9c179e"
            ],
            [
             0.4444444444444444,
             "#bd3786"
            ],
            [
             0.5555555555555556,
             "#d8576b"
            ],
            [
             0.6666666666666666,
             "#ed7953"
            ],
            [
             0.7777777777777778,
             "#fb9f3a"
            ],
            [
             0.8888888888888888,
             "#fdca26"
            ],
            [
             1,
             "#f0f921"
            ]
           ],
           "sequentialminus": [
            [
             0,
             "#0d0887"
            ],
            [
             0.1111111111111111,
             "#46039f"
            ],
            [
             0.2222222222222222,
             "#7201a8"
            ],
            [
             0.3333333333333333,
             "#9c179e"
            ],
            [
             0.4444444444444444,
             "#bd3786"
            ],
            [
             0.5555555555555556,
             "#d8576b"
            ],
            [
             0.6666666666666666,
             "#ed7953"
            ],
            [
             0.7777777777777778,
             "#fb9f3a"
            ],
            [
             0.8888888888888888,
             "#fdca26"
            ],
            [
             1,
             "#f0f921"
            ]
           ]
          },
          "colorway": [
           "#636efa",
           "#EF553B",
           "#00cc96",
           "#ab63fa",
           "#FFA15A",
           "#19d3f3",
           "#FF6692",
           "#B6E880",
           "#FF97FF",
           "#FECB52"
          ],
          "font": {
           "color": "#2a3f5f"
          },
          "geo": {
           "bgcolor": "white",
           "lakecolor": "white",
           "landcolor": "#E5ECF6",
           "showlakes": true,
           "showland": true,
           "subunitcolor": "white"
          },
          "hoverlabel": {
           "align": "left"
          },
          "hovermode": "closest",
          "mapbox": {
           "style": "light"
          },
          "paper_bgcolor": "white",
          "plot_bgcolor": "#E5ECF6",
          "polar": {
           "angularaxis": {
            "gridcolor": "white",
            "linecolor": "white",
            "ticks": ""
           },
           "bgcolor": "#E5ECF6",
           "radialaxis": {
            "gridcolor": "white",
            "linecolor": "white",
            "ticks": ""
           }
          },
          "scene": {
           "xaxis": {
            "backgroundcolor": "#E5ECF6",
            "gridcolor": "white",
            "gridwidth": 2,
            "linecolor": "white",
            "showbackground": true,
            "ticks": "",
            "zerolinecolor": "white"
           },
           "yaxis": {
            "backgroundcolor": "#E5ECF6",
            "gridcolor": "white",
            "gridwidth": 2,
            "linecolor": "white",
            "showbackground": true,
            "ticks": "",
            "zerolinecolor": "white"
           },
           "zaxis": {
            "backgroundcolor": "#E5ECF6",
            "gridcolor": "white",
            "gridwidth": 2,
            "linecolor": "white",
            "showbackground": true,
            "ticks": "",
            "zerolinecolor": "white"
           }
          },
          "shapedefaults": {
           "line": {
            "color": "#2a3f5f"
           }
          },
          "ternary": {
           "aaxis": {
            "gridcolor": "white",
            "linecolor": "white",
            "ticks": ""
           },
           "baxis": {
            "gridcolor": "white",
            "linecolor": "white",
            "ticks": ""
           },
           "bgcolor": "#E5ECF6",
           "caxis": {
            "gridcolor": "white",
            "linecolor": "white",
            "ticks": ""
           }
          },
          "title": {
           "x": 0.05
          },
          "xaxis": {
           "automargin": true,
           "gridcolor": "white",
           "linecolor": "white",
           "ticks": "",
           "title": {
            "standoff": 15
           },
           "zerolinecolor": "white",
           "zerolinewidth": 2
          },
          "yaxis": {
           "automargin": true,
           "gridcolor": "white",
           "linecolor": "white",
           "ticks": "",
           "title": {
            "standoff": 15
           },
           "zerolinecolor": "white",
           "zerolinewidth": 2
          }
         }
        },
        "xaxis": {
         "anchor": "y",
         "domain": [
          0,
          1
         ],
         "title": {
          "text": "Date-daily"
         }
        },
        "yaxis": {
         "anchor": "x",
         "domain": [
          0,
          1
         ],
         "title": {
          "text": "Electricity Demand SIN kWh"
         }
        }
       }
      }
     },
     "metadata": {},
     "output_type": "display_data"
    }
   ],
   "source": [
    "import plotly.express as px\n",
    "\n",
    "# Colores utilizados en el gráfico anterior\n",
    "color_discrete_sequence = ['#276981', '#9e9764', '#642424', '#001a57', '#e59882', '#9e9764']\n",
    "\n",
    "# Crear un gráfico de líneas\n",
    "fig = px.line(test, x=test.index, y=['RNN_forecast', 'LSTM_forecast', 'GRU_forecast', 'BidirectionalLSTM_forecast', 'Real Demand', 'XM Forecast'],\n",
    "              color_discrete_sequence=color_discrete_sequence)\n",
    "\n",
    "# Definir un conjunto de estilos de líneas (line_dash) para cada línea\n",
    "line_dash_styles = ['solid', 'dash', 'dot', 'dashdot', 'longdash']\n",
    "\n",
    "# Asignar un estilo de línea diferente a cada traza en el gráfico\n",
    "for i, trace in enumerate(fig.data):\n",
    "    trace.line.dash = line_dash_styles[i % len(line_dash_styles)]\n",
    "\n",
    "# Personalizar el gráfico\n",
    "fig.update_layout(\n",
    "    xaxis_title=\"Date-daily\",\n",
    "    yaxis_title=\"Electricity Demand SIN kWh\",\n",
    ")\n",
    "\n",
    "# Mostrar el gráfico\n",
    "fig.show()"
   ]
  },
  {
   "cell_type": "markdown",
   "metadata": {},
   "source": [
    "### XM_pronostico MAPE"
   ]
  },
  {
   "cell_type": "code",
   "execution_count": 24,
   "metadata": {},
   "outputs": [
    {
     "name": "stdout",
     "output_type": "stream",
     "text": [
      "MAE: 5461.915177428488\n",
      "MAPE: 2.375653015635124\n"
     ]
    }
   ],
   "source": [
    "y_true = datos.loc[test.index, 'Demanda_SIN']\n",
    "mae = mean_absolute_error(y_true, test['pronostico_xm'])\n",
    "print(\"MAE:\",mae)\n",
    "mape = (mae / y_true).mean() * 100\n",
    "print(\"MAPE:\", mape) #MAPE DE XM los últimos 7 días se septiembre"
   ]
  },
  {
   "cell_type": "code",
   "execution_count": 15,
   "metadata": {},
   "outputs": [
    {
     "data": {
      "text/html": [
       "<div>\n",
       "<style scoped>\n",
       "    .dataframe tbody tr th:only-of-type {\n",
       "        vertical-align: middle;\n",
       "    }\n",
       "\n",
       "    .dataframe tbody tr th {\n",
       "        vertical-align: top;\n",
       "    }\n",
       "\n",
       "    .dataframe thead th {\n",
       "        text-align: right;\n",
       "    }\n",
       "</style>\n",
       "<table border=\"1\" class=\"dataframe\">\n",
       "  <thead>\n",
       "    <tr style=\"text-align: right;\">\n",
       "      <th></th>\n",
       "      <th>RNN_forecast</th>\n",
       "      <th>LSTM_forecast</th>\n",
       "      <th>GRU_forecast</th>\n",
       "      <th>BidirectionalLSTM_forecast</th>\n",
       "      <th>Real Demand</th>\n",
       "    </tr>\n",
       "    <tr>\n",
       "      <th>FECHA</th>\n",
       "      <th></th>\n",
       "      <th></th>\n",
       "      <th></th>\n",
       "      <th></th>\n",
       "      <th></th>\n",
       "    </tr>\n",
       "  </thead>\n",
       "  <tbody>\n",
       "    <tr>\n",
       "      <th>2023-09-24</th>\n",
       "      <td>218153.4</td>\n",
       "      <td>215340.9</td>\n",
       "      <td>209295.3</td>\n",
       "      <td>213940.4</td>\n",
       "      <td>203949.3</td>\n",
       "    </tr>\n",
       "    <tr>\n",
       "      <th>2023-09-25</th>\n",
       "      <td>229240.9</td>\n",
       "      <td>228408.3</td>\n",
       "      <td>226251.5</td>\n",
       "      <td>227504.1</td>\n",
       "      <td>233453.1</td>\n",
       "    </tr>\n",
       "    <tr>\n",
       "      <th>2023-09-26</th>\n",
       "      <td>229858.1</td>\n",
       "      <td>229629.8</td>\n",
       "      <td>228741.5</td>\n",
       "      <td>228921.5</td>\n",
       "      <td>236506.3</td>\n",
       "    </tr>\n",
       "    <tr>\n",
       "      <th>2023-09-27</th>\n",
       "      <td>230113.5</td>\n",
       "      <td>229845.8</td>\n",
       "      <td>228569.5</td>\n",
       "      <td>229511.6</td>\n",
       "      <td>238964.9</td>\n",
       "    </tr>\n",
       "    <tr>\n",
       "      <th>2023-09-28</th>\n",
       "      <td>230560.0</td>\n",
       "      <td>230640.2</td>\n",
       "      <td>229329.4</td>\n",
       "      <td>230041.5</td>\n",
       "      <td>235940.4</td>\n",
       "    </tr>\n",
       "    <tr>\n",
       "      <th>2023-09-29</th>\n",
       "      <td>230779.4</td>\n",
       "      <td>230729.5</td>\n",
       "      <td>229204.0</td>\n",
       "      <td>229635.3</td>\n",
       "      <td>235929.7</td>\n",
       "    </tr>\n",
       "    <tr>\n",
       "      <th>2023-09-30</th>\n",
       "      <td>225600.0</td>\n",
       "      <td>225162.6</td>\n",
       "      <td>222462.7</td>\n",
       "      <td>224776.6</td>\n",
       "      <td>228839.6</td>\n",
       "    </tr>\n",
       "  </tbody>\n",
       "</table>\n",
       "</div>"
      ],
      "text/plain": [
       "            RNN_forecast  LSTM_forecast  GRU_forecast  BidirectionalLSTM_forecast  Real Demand\n",
       "FECHA                                                                                         \n",
       "2023-09-24      218153.4       215340.9      209295.3                    213940.4     203949.3\n",
       "2023-09-25      229240.9       228408.3      226251.5                    227504.1     233453.1\n",
       "2023-09-26      229858.1       229629.8      228741.5                    228921.5     236506.3\n",
       "2023-09-27      230113.5       229845.8      228569.5                    229511.6     238964.9\n",
       "2023-09-28      230560.0       230640.2      229329.4                    230041.5     235940.4\n",
       "2023-09-29      230779.4       230729.5      229204.0                    229635.3     235929.7\n",
       "2023-09-30      225600.0       225162.6      222462.7                    224776.6     228839.6"
      ]
     },
     "execution_count": 15,
     "metadata": {},
     "output_type": "execute_result"
    }
   ],
   "source": [
    "test"
   ]
  },
  {
   "cell_type": "code",
   "execution_count": null,
   "metadata": {},
   "outputs": [],
   "source": []
  }
 ],
 "metadata": {
  "kernelspec": {
   "display_name": "Python 3",
   "language": "python",
   "name": "python3"
  },
  "language_info": {
   "codemirror_mode": {
    "name": "ipython",
    "version": 3
   },
   "file_extension": ".py",
   "mimetype": "text/x-python",
   "name": "python",
   "nbconvert_exporter": "python",
   "pygments_lexer": "ipython3",
   "version": "3.9.12"
  }
 },
 "nbformat": 4,
 "nbformat_minor": 2
}
